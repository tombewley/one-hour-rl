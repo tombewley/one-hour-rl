{
 "cells": [
  {
   "cell_type": "markdown",
   "id": "25334ff2",
   "metadata": {},
   "source": [
    "# An Introduction to Reinforcement Learning\n",
    "\n",
    "## [Tom Bewley](https://tombewley.com/) & [Scott Jeen](https://enjeeneer.io/)\n",
    "\n",
    "### 24/02/2022\n"
   ]
  },
  {
   "cell_type": "markdown",
   "id": "6ae45577",
   "metadata": {},
   "source": [
    "# 1 | Markov Decision Processes: A Model of Sequential Decision Making"
   ]
  },
  {
   "cell_type": "markdown",
   "id": "b858da42",
   "metadata": {},
   "source": [
    "## 1.1. MDP (semi-)Formalism "
   ]
  },
  {
   "cell_type": "markdown",
   "id": "a08b8dc4",
   "metadata": {},
   "source": [
    "In reinforcement learning (RL), an *agent* takes *actions* in an *environment* to change its state over discrete timesteps $t$, with the goal of maximising the future sum of a scalar quantity known as *reward*. We formalise this interaction as an agent-environment loop, mathematically described as a Markov Decision Process (MDP). \n",
    "\n",
    "<img src='https://github.com/enjeeneer/sutton_and_barto/blob/main/images/chapter3_1.png?raw=true' width='700'>\n",
    "\n",
    "MDPs break the I.I.D. data assumption of supervised and unsupervised learning; the agent *causally influences* the data it sees through its choice of actions. However, one assumption we do make is the *Markov property*, which says that the state representation captures *all relevent information* from the past. Formally, state transitions depend only on the most recent state and action,\n",
    "$$\n",
    "\\mathbb{P}[S_{t+1} | S_1,A_1 \\ldots\\, S_t,A_t]=\\mathbb{P}[S_{t+1} | S_t,A_t],\n",
    "$$\n",
    "and rewards depend only on the most recent transition,\n",
    "$$\n",
    "\\mathbb{P}[R_{t+1} | S_1,A_1 \\ldots\\, S_t,A_t,S_{t+1}] = \\mathbb{P}[R_{t+1} | S_t,A_t,S_{t+1}].\n",
    "$$\n",
    "- Note: different sources use different notation here, but this is the most general.\n",
    "\n",
    "In some MDPs, a subset of states are designated as *terminal* (or *absorbing*). The agent-environment interaction loop ceases once a terminal state is reached, and restarts again at $t=0$ by sampling an state from an initialisation distribution $S_0\\sim\\mathbb{P}_\\text{init}$. Such MDPs are known as *episodic*, while those without terminal states are known as *continuing*.\n",
    "\n",
    "The goal of an RL agent is to pick actions that maximise the discounted cumulative sum of future rewards, also known as the *return* $G_t$:\n",
    "$$\n",
    "G_t = R_{t+1} + \\gamma R_{t+2} + \\gamma^2 R_{t+3} + \\ldots + \\gamma^{T-t-1}R_{T},\n",
    "$$\n",
    "where $\\gamma\\in[0,1]$ is a discount factor and $T$ is the time of termination ($\\infty$ in continuing MDPs).\n",
    "\n",
    "To do so, it needs the ability to forecast the reward-getting effect of taking each action $A$ in each state $S$, potentially many timesteps into the future. This *temporal credit assignment* problem is one of the key factors that makes RL so challenging.\n",
    "\n",
    "Before we go on, it's worth reflecting on how general the MDP formulation is. An extremely large class of problems can be cast as MDPs (it's even possible to represent supervised learning as a special case), and [this recent DeepMind paper](https://reader.elsevier.com/reader/sd/pii/S0004370221000862?token=3A56DFC12064E559FBF2F53CBE7A85E4E4BE24160CC0B9DDDAE18351D2FE61DA3BF02167A8FCAE3398396BBBEDFDA7A9&originRegion=eu-west-1&originCreation=20220224085155) goes as far as to say that *all aspects of general intelligence* can be understood as serving the maximisation of future reward. Although not everybody agrees, this attitude motivates the heavy RL focus at organisations like DeepMind and OpenAI."
   ]
  },
  {
   "cell_type": "markdown",
   "id": "e04bbeb6",
   "metadata": {},
   "source": [
    "## 1.2 MDP Example"
   ]
  },
  {
   "cell_type": "markdown",
   "id": "1ec9e984",
   "metadata": {},
   "source": [
    "Here's a simple MDP (courtesy of David Silver @ DeepMind/UCL), which we'll be using throughout this course.\n",
    "- White circle: non-terminal state\n",
    "- White square: terminal state\n",
    "- Black circle: action\n",
    "- <span style=\"color:green\">Green:</span> reward (depends only on $S_{t+1}$ here)\n",
    "- <span style=\"color:blue\">Blue:</span> state transition probability\n",
    "- <span style=\"color:red\">Red:</span> action probability for an exemplar policy\n",
    "- Note: edges with probability $1$ are unlabelled\n",
    "\n",
    "<img src='https://github.com/tombewley/one-hour-rl/blob/main/images/student-mdp.svg?raw=true' width='700'>"
   ]
  },
  {
   "cell_type": "markdown",
   "id": "7c686859",
   "metadata": {},
   "source": [
    "## 1.3 Open AI Gym"
   ]
  },
  {
   "cell_type": "markdown",
   "id": "ef693937",
   "metadata": {},
   "source": [
    "[Open AI Gym](https://gym.openai.com/) provides a unified framework for testing and comparing RL algorithms in Python, and offers a suite of MDPs that researchers can use to benchmark their work. It's important to be familiar with the conventions of Gym, because almost all modern RL code is built to work with it. Gym environment classes have two key methods:\n",
    "\n",
    "- `mdp.reset()`: reset the MDP to an initial state $S_0$ according to the initialisation distribution $\\mathbb{P}_\\text{init}$.\n",
    "- `mdp.step(action)` : given an action $A_t$, combine with the current state $S_t$ to produce the next state according to $\\mathbb{P}[S_{t+1} | S_t,A_t]$ and a scalar reward according to $\\mathbb{P}[R_{t+1} | S_t,A_t,S_{t+1}]$.\n",
    "\n",
    "A Gym-compatible class for the student MDP shown above can be found in `mdp.py` in this repository. Let's import it now and explore what it can do!"
   ]
  },
  {
   "cell_type": "code",
   "execution_count": 1,
   "id": "a227ab8b",
   "metadata": {},
   "outputs": [],
   "source": [
    "from mdp import StudentMDP\n",
    "mdp = StudentMDP()"
   ]
  },
  {
   "cell_type": "markdown",
   "id": "788fae80",
   "metadata": {},
   "source": [
    "Firstly, we'll have a look at the initialisation probabilities and the behaviour of `mdp.reset()`."
   ]
  },
  {
   "cell_type": "code",
   "execution_count": 2,
   "id": "a9ef4ae3",
   "metadata": {},
   "outputs": [
    {
     "name": "stdout",
     "output_type": "stream",
     "text": [
      "{'Class 1': 1.0, 'Class 2': 0.0, 'Class 3': 0.0, 'Facebook': 0.0, 'Pub': 0.0, 'Pass': 0.0, 'Asleep': 0.0}\n",
      "Class 1\n"
     ]
    }
   ],
   "source": [
    "print(mdp.initial_probs())\n",
    "mdp.reset()\n",
    "print(mdp.state)"
   ]
  },
  {
   "cell_type": "markdown",
   "id": "36f92f8b",
   "metadata": {},
   "source": [
    "Next, let's check which actions are available in this initial state, and the action-dependent transition probabilities $\\mathbb{P}[S_{t+1}|\\text{Class 1},A_t]$.\n",
    "- Reminder: the Markov property dictates that transition probabilities depend *only* on the current state and action."
   ]
  },
  {
   "cell_type": "code",
   "execution_count": 3,
   "id": "c878513a",
   "metadata": {},
   "outputs": [
    {
     "name": "stdout",
     "output_type": "stream",
     "text": [
      "{'Study', 'Go on Facebook'}\n",
      "{'Class 2': 1.0}\n",
      "{'Facebook': 1.0}\n"
     ]
    }
   ],
   "source": [
    "print(mdp.action_space(mdp.state))\n",
    "print(mdp.transition_probs(mdp.state, \"Study\"))\n",
    "print(mdp.transition_probs(mdp.state, \"Go on Facebook\"))"
   ]
  },
  {
   "cell_type": "markdown",
   "id": "4f400556",
   "metadata": {},
   "source": [
    "Calling `mdp.step(action)` samples and returns the next state $S_{t+1}$, alongside the reward $R_{t+1}$. Let's try calling this method repeatedly. What's happening here?"
   ]
  },
  {
   "cell_type": "code",
   "execution_count": 4,
   "id": "c1611b33",
   "metadata": {},
   "outputs": [
    {
     "name": "stdout",
     "output_type": "stream",
     "text": [
      "Class 2 -2.0\n"
     ]
    }
   ],
   "source": [
    "state, reward, _, _ = mdp.step(\"Study\") \n",
    "print(state, reward)"
   ]
  },
  {
   "cell_type": "code",
   "execution_count": 5,
   "id": "70daef30",
   "metadata": {},
   "outputs": [
    {
     "data": {
      "text/plain": [
       "{'Fall asleep'}"
      ]
     },
     "execution_count": 5,
     "metadata": {},
     "output_type": "execute_result"
    }
   ],
   "source": [
    "mdp.action_space(\"Pass\")"
   ]
  },
  {
   "cell_type": "markdown",
   "id": "1da95376",
   "metadata": {},
   "source": [
    "So far, we've only seen *deterministic* transitions, but having a pint in the pub has a *stochastic* effect; the state goes to one of the three classes with specified probabilities."
   ]
  },
  {
   "cell_type": "code",
   "execution_count": 6,
   "id": "4bea7350",
   "metadata": {},
   "outputs": [
    {
     "name": "stdout",
     "output_type": "stream",
     "text": [
      "{'Have a pint'}\n",
      "{'Class 1': 0.2, 'Class 2': 0.4, 'Class 3': 0.4}\n"
     ]
    }
   ],
   "source": [
    "print(mdp.action_space(\"Pub\"))\n",
    "print(mdp.transition_probs(\"Pub\", \"Have a pint\"))"
   ]
  },
  {
   "cell_type": "markdown",
   "id": "74297464",
   "metadata": {},
   "source": [
    "In this state, the behaviour of `mdp.step(action)` changes between repeated calls, even for a constant action."
   ]
  },
  {
   "cell_type": "code",
   "execution_count": 7,
   "id": "c2d4a8f4",
   "metadata": {},
   "outputs": [
    {
     "name": "stdout",
     "output_type": "stream",
     "text": [
      "Class 2 -2.0\n"
     ]
    }
   ],
   "source": [
    "mdp.state = \"Pub\" # Note that we're resetting the state to Pub each time\n",
    "state, reward, _, _ = mdp.step(\"Have a pint\")\n",
    "print(state, reward)"
   ]
  },
  {
   "cell_type": "markdown",
   "id": "235f67c8",
   "metadata": {},
   "source": [
    "This MDP has just one terminal state."
   ]
  },
  {
   "cell_type": "code",
   "execution_count": 8,
   "id": "f1f94c39",
   "metadata": {},
   "outputs": [
    {
     "name": "stdout",
     "output_type": "stream",
     "text": [
      "{'Asleep'}\n"
     ]
    }
   ],
   "source": [
    "print(mdp.terminal_states())"
   ]
  },
  {
   "cell_type": "markdown",
   "id": "7069bebe",
   "metadata": {},
   "source": [
    "`mdp.step(action)` also returns a binary `done` flag, which is set to `True` if $S_{t+1}$ is a terminal state."
   ]
  },
  {
   "cell_type": "code",
   "execution_count": 9,
   "id": "fba6f14c",
   "metadata": {},
   "outputs": [
    {
     "name": "stdout",
     "output_type": "stream",
     "text": [
      "Asleep 0.0 True\n",
      "Asleep 0.0 True\n"
     ]
    }
   ],
   "source": [
    "mdp.state = \"Class 2\" \n",
    "state, reward, done, _ = mdp.step(\"Fall asleep\")\n",
    "print(state, reward, done)\n",
    "\n",
    "mdp.state = \"Pass\" \n",
    "state, reward, done, _ = mdp.step(\"Fall asleep\")\n",
    "print(state, reward, done)"
   ]
  },
  {
   "cell_type": "markdown",
   "id": "f346eb1d",
   "metadata": {},
   "source": [
    "Now let's bring an agent into the mix, and give it the exemplar policy shown in the diagram above."
   ]
  },
  {
   "cell_type": "code",
   "execution_count": 10,
   "id": "f284c935",
   "metadata": {},
   "outputs": [],
   "source": [
    "from agent import Agent\n",
    "agent = Agent(mdp) \n",
    "agent.policy = {\n",
    "    \"Class 1\":  {\"Study\": 0.5, \"Go on Facebook\": 0.5},\n",
    "    \"Class 2\":  {\"Study\": 0.8, \"Fall asleep\": 0.2},\n",
    "    \"Class 3\":  {\"Study\": 0.6, \"Go to the pub\": 0.4},\n",
    "    \"Facebook\": {\"Keep scrolling\": 0.9, \"Close Facebook\": 0.1},\n",
    "    \"Pub\":      {\"Have a pint\": 1.},\n",
    "    \"Pass\":     {\"Fall asleep\": 1.},\n",
    "    \"Asleep\":   {\"Stay asleep\": 1.}}\n"
   ]
  },
  {
   "cell_type": "markdown",
   "id": "1d6f70e3",
   "metadata": {},
   "source": [
    "We can query the policy in a similar way to the MDP's properties, and observe its stochastic behaviour."
   ]
  },
  {
   "cell_type": "code",
   "execution_count": 11,
   "id": "a15ce8f3",
   "metadata": {},
   "outputs": [
    {
     "name": "stdout",
     "output_type": "stream",
     "text": [
      "{'Study': 0.5, 'Go on Facebook': 0.5}\n",
      "['Go on Facebook', 'Study', 'Go on Facebook', 'Study', 'Go on Facebook', 'Study', 'Go on Facebook', 'Study', 'Go on Facebook', 'Study', 'Study', 'Study', 'Go on Facebook', 'Study', 'Study', 'Study', 'Go on Facebook', 'Go on Facebook', 'Go on Facebook', 'Study']\n"
     ]
    }
   ],
   "source": [
    "print(agent.policy[\"Class 1\"])\n",
    "print([agent.act(\"Class 1\") for _ in range(20)])"
   ]
  },
  {
   "cell_type": "markdown",
   "id": "21146564",
   "metadata": {},
   "source": [
    "Bringing it all together:"
   ]
  },
  {
   "cell_type": "code",
   "execution_count": 12,
   "id": "01628da8",
   "metadata": {},
   "outputs": [
    {
     "name": "stdout",
     "output_type": "stream",
     "text": [
      "=========================== EPISODE   2 ===========================\n",
      "| Time  | State    | Action         | Reward | Next state | Done  |\n",
      "|-------|----------|----------------|--------|------------|-------|\n",
      "| 0     | Class 1  | Study          | -2.0   | Class 2    | False |\n",
      "| 1     | Class 2  | Study          | -2.0   | Class 3    | False |\n",
      "| 2     | Class 3  | Study          | 10.0   | Pass       | False |\n",
      "| 3     | Pass     | Fall asleep    |  0.0   | Asleep     | True  |\n"
     ]
    }
   ],
   "source": [
    "mdp.verbose = True\n",
    "state = mdp.reset()\n",
    "done = False\n",
    "while not done:\n",
    "    state, reward, done, info = mdp.step(agent.act(state))"
   ]
  },
  {
   "cell_type": "markdown",
   "id": "d0da9ed3",
   "metadata": {},
   "source": [
    "How \"good\" is this policy? To answer this, we need to calculate its expected return."
   ]
  },
  {
   "cell_type": "markdown",
   "id": "a91f27f7",
   "metadata": {},
   "source": [
    "# 2 | Policy Evaluation: The Temporal Difference Method"
   ]
  },
  {
   "cell_type": "markdown",
   "id": "7aebd142",
   "metadata": {},
   "source": [
    "==NOTE: INCOMPLETE==\n",
    "\n",
    "For a policy $\\pi$, the *Q value* $Q_\\pi(S_t,A_t)$ is the expected return from taking action $A_t$ in state $S_t$, and following $\\pi$ thereafter. It thus quantifies how well the policy can be expected to perform, starting from this state-action pair. Q values exhibit an elegant recursive relationship known as the *Bellman equation*:\n",
    "$$\n",
    "Q_\\pi(S_t,A_t)=\\sum_{S_{t+1}}\\mathbb{P}[S_{t+1}|S_t,A_t]\\left(\\mathbb{E}[R_{t+1} | S_t,A_t,S_{t+1}]+\\gamma\\times\\sum_{A_{t+1}}\\pi(A_{t+1}|S_{t+1})\\times Q_\\pi(S_{t+1},A_{t+1})\\right).\n",
    "$$\n",
    "\n",
    "i.e. **The Q value for a state-action pair is equal to the immediate reward, plus the $\\gamma$-discounted Q value for the *next* state-action pair, with expectations taken over both the transition function $\\mathbb{P}$ and the policy $\\pi$.**\n",
    "\n",
    "This is a bit of a mouthful, but the Bellman equation is perhaps the single most important thing to understand if you really want to \"get\" reinforcement learning. \n",
    "\n",
    "To gain some intuition for this relationship, here are estimated Q values for the exemplar policy in the student MDP. Here we're using a discount factor of $\\gamma=0.95$\n",
    "- Note that these values are only approximate, so the Bellman equation doesn't hold exactly!"
   ]
  },
  {
   "cell_type": "markdown",
   "id": "d62da349",
   "metadata": {},
   "source": [
    "<img src='https://github.com/tombewley/one-hour-rl/blob/main/images/student-mdp-Q-values.svg?raw=true' width='700'>"
   ]
  },
  {
   "cell_type": "markdown",
   "id": "4dc1165f",
   "metadata": {},
   "source": [
    "To take one example:\n",
    "$$\n",
    "Q(\\text{Class 2},\\text{Study})=-2+0.95\\times [(0.6\\times Q(\\text{Class 3},\\text{Study})+0.4\\times Q(\\text{Class 3},\\text{Go to the pub}))]\n",
    "$$\n",
    "$$\n",
    "=-2+0.95\\times[(0.6\\times 9.99+0.4\\times 1.81)]\n",
    "$$\n",
    "$$\n",
    "=4.38\\approx 4.36\n",
    "$$"
   ]
  },
  {
   "cell_type": "markdown",
   "id": "f4ca0a3a",
   "metadata": {},
   "source": [
    "How did we arrive at these Q value estimates? Here's where the real magic happens.\n",
    "\n",
    "The *Bellman backup* algorithm makes use of this recursive relationship to update the Q value for a state-action pair based on the *current estimate of the value for the next state*."
   ]
  },
  {
   "cell_type": "code",
   "execution_count": 34,
   "id": "aed6dcef",
   "metadata": {},
   "outputs": [],
   "source": [
    "GAMMA = 0.95  # Discount factor\n",
    "ALPHA = 0.001 # Learning rate\n",
    "\n",
    "def bellman_backup(agent, state, action, reward, next_state, done):\n",
    "\n",
    "    Q_next = 0. if done else agent.Q[next_state][agent.act(next_state)]\n",
    "\n",
    "    agent.Q[state][action] += ALPHA * ( reward + GAMMA * Q_next - agent.Q[state][action])"
   ]
  },
  {
   "cell_type": "markdown",
   "id": "5a540655",
   "metadata": {},
   "source": [
    "By sampling episodes in our MDP using the current policy we can collect rewards and update our Q-function accordingly. The algorithm we use to evaluate policies is called policy evaluation, and it uses the Bellman back-up which has two hyperparameters $\\gamma$ and $\\alpha$. $\\gamma$ is the discount factor that"
   ]
  },
  {
   "cell_type": "markdown",
   "id": "653e0edf",
   "metadata": {},
   "source": [
    "Import the MDP and define the policy again."
   ]
  },
  {
   "cell_type": "code",
   "execution_count": 23,
   "id": "d707baad",
   "metadata": {},
   "outputs": [],
   "source": [
    "from mdp import StudentMDP\n",
    "from agent import Agent\n",
    "mdp = StudentMDP(verbose=True)\n",
    "agent = Agent(mdp) \n",
    "agent.policy = {\n",
    "    \"Class 1\":  {\"Study\": 0.5, \"Go on Facebook\": 0.5},\n",
    "    \"Class 2\":  {\"Study\": 0.8, \"Fall asleep\": 0.2},\n",
    "    \"Class 3\":  {\"Study\": 0.6, \"Go to the pub\": 0.4},\n",
    "    \"Facebook\": {\"Keep scrolling\": 0.9, \"Close Facebook\": 0.1},\n",
    "    \"Pub\":      {\"Have a pint\": 1.},\n",
    "    \"Pass\":     {\"Fall asleep\": 1.},\n",
    "    \"Asleep\":   {\"Stay asleep\": 1.}\n",
    "}"
   ]
  },
  {
   "cell_type": "markdown",
   "id": "bb7bb0ac",
   "metadata": {},
   "source": [
    "Initially, we set all Q values to zero (this is actually arbitrary)."
   ]
  },
  {
   "cell_type": "code",
   "execution_count": 24,
   "id": "65261081",
   "metadata": {},
   "outputs": [
    {
     "data": {
      "text/plain": [
       "{'Class 1': {'Study': 0.0, 'Go on Facebook': 0.0},\n",
       " 'Class 2': {'Study': 0.0, 'Fall asleep': 0.0},\n",
       " 'Class 3': {'Study': 0.0, 'Go to the pub': 0.0},\n",
       " 'Facebook': {'Keep scrolling': 0.0, 'Close Facebook': 0.0},\n",
       " 'Pub': {'Have a pint': 0.0},\n",
       " 'Pass': {'Fall asleep': 0.0},\n",
       " 'Asleep': {}}"
      ]
     },
     "execution_count": 24,
     "metadata": {},
     "output_type": "execute_result"
    }
   ],
   "source": [
    "agent.Q"
   ]
  },
  {
   "cell_type": "markdown",
   "id": "b981baec",
   "metadata": {},
   "source": [
    "Run a single episode to see what happens."
   ]
  },
  {
   "cell_type": "code",
   "execution_count": 30,
   "id": "4c3b687f",
   "metadata": {},
   "outputs": [
    {
     "name": "stdout",
     "output_type": "stream",
     "text": [
      "=========================== EPISODE  51 ===========================\n",
      "| Time  | State    | Action         | Reward | Next state | Done  |\n",
      "|-------|----------|----------------|--------|------------|-------|\n",
      "| 0     | Class 1  | Study          | -2.0   | Class 2    | False |\n",
      "Current action value: 4.271800760689531\n",
      "Reward obtained: -2.0\n",
      "Next action value: 6.9926093317691915\n",
      "Updated action value: 4.272171938794022\n",
      "\n",
      "\n",
      "| 1     | Class 2  | Study          | -2.0   | Class 3    | False |\n",
      "Current action value: 6.9926093317691915\n",
      "Reward obtained: -2.0\n",
      "Next action value: 9.999149294082697\n",
      "Updated action value: 6.9931159142668005\n",
      "\n",
      "\n",
      "| 2     | Class 3  | Study          | 10.0   | Pass       | False |\n",
      "Current action value: 9.999149294082697\n",
      "Reward obtained: 10.0\n",
      "Next action value: 0.0\n",
      "Updated action value: 9.999150144788615\n",
      "\n",
      "\n",
      "| 3     | Pass     | Fall asleep    |  0.0   | Asleep     | True  |\n",
      "Current action value: 0.0\n",
      "Reward obtained: 0.0\n",
      "Next action value: 0.0\n",
      "Updated action value: 0.0\n",
      "\n",
      "\n"
     ]
    }
   ],
   "source": [
    "state = mdp.reset()\n",
    "done = False\n",
    "while not done:\n",
    "    action = agent.act(state)\n",
    "    next_state, reward, done, _ = mdp.step(action)\n",
    "    \n",
    "    print('Current action value:', agent.Q[state][action])\n",
    "    print('Reward obtained:', reward)\n",
    "    print('Next action value:', 0. if done else agent.Q[next_state][agent.act(next_state)])\n",
    "\n",
    "    bellman_backup(agent, state, action, reward, next_state, done)\n",
    "\n",
    "    print('Updated action value:', agent.Q[state][action])\n",
    "    print('\\n')\n",
    "\n",
    "    state = next_state"
   ]
  },
  {
   "cell_type": "markdown",
   "id": "b89a7240",
   "metadata": {},
   "source": [
    "Repeating a bunch of times, we gradually converge."
   ]
  },
  {
   "cell_type": "code",
   "execution_count": 26,
   "id": "7c42112d",
   "metadata": {},
   "outputs": [
    {
     "name": "stdout",
     "output_type": "stream",
     "text": [
      "Initial Q\n",
      "{'Class 1': {'Study': -0.002, 'Go on Facebook': -0.001}, 'Class 2': {'Study': -0.002, 'Fall asleep': 0.0}, 'Class 3': {'Study': 0.01, 'Go to the pub': 0.0}, 'Facebook': {'Keep scrolling': -0.0049995000249993754, 'Close Facebook': -0.00200095}, 'Pub': {'Have a pint': 0.0}, 'Pass': {'Fall asleep': 0.0}, 'Asleep': {}}\n",
      "\n",
      "\n",
      "Converged Q\n",
      "{'Class 1': {'Study': 1.3750628761712569, 'Go on Facebook': -11.288976651525505}, 'Class 2': {'Study': 4.485658109648779, 'Fall asleep': 0.0}, 'Class 3': {'Study': 9.999996524778595, 'Go to the pub': 1.8953439336946862}, 'Facebook': {'Keep scrolling': -11.233042781986304, 'Close Facebook': -6.6761905244797735}, 'Pub': {'Have a pint': 0.9312667143217461}, 'Pass': {'Fall asleep': 0.0}, 'Asleep': {}}\n"
     ]
    }
   ],
   "source": [
    "mdp.verbose = False\n",
    "\n",
    "print('Initial Q')\n",
    "print(agent.Q)\n",
    "\n",
    "for _ in range(20000):\n",
    "    state = mdp.reset()\n",
    "    done = False\n",
    "    while not done:\n",
    "        action = agent.act(state)\n",
    "        next_state, reward, done, _ = mdp.step(action)\n",
    "        bellman_backup(agent, state, action, reward, next_state, done)\n",
    "        state = next_state\n",
    "\n",
    "print('\\n')\n",
    "print('Converged Q')\n",
    "print(agent.Q)"
   ]
  },
  {
   "cell_type": "markdown",
   "id": "35849b8b",
   "metadata": {},
   "source": [
    "Note that although the policy evaluation process is guaranteed to converge eventually (for simple MDPs!), we are likely to see some discrepencies between runs of finite length because of the role of randomness in the data collection process. Here are the results of five independent repeats:"
   ]
  },
  {
   "cell_type": "code",
   "execution_count": 18,
   "id": "e8ca1b27",
   "metadata": {},
   "outputs": [
    {
     "data": {
      "text/plain": [
       "{'Class 1': {'Study': 1.2650695038546025,\n",
       "  'Go on Facebook': -11.30468184426212},\n",
       " 'Class 2': {'Study': 4.407552596737938, 'Fall asleep': 0.0},\n",
       " 'Class 3': {'Study': 9.99999695776742, 'Go to the pub': 1.8487809354712246},\n",
       " 'Facebook': {'Keep scrolling': -11.258053618560483,\n",
       "  'Close Facebook': -6.489974573408375},\n",
       " 'Pub': {'Have a pint': 0.9454014270087486},\n",
       " 'Pass': {'Fall asleep': 0.0},\n",
       " 'Asleep': {}}"
      ]
     },
     "execution_count": 18,
     "metadata": {},
     "output_type": "execute_result"
    }
   ],
   "source": [
    "{'Class 1': {'Study': 1.2650695038546025, 'Go on Facebook': -11.30468184426212}, 'Class 2': {'Study': 4.407552596737938, 'Fall asleep': 0.0}, 'Class 3': {'Study': 9.99999695776742, 'Go to the pub': 1.8487809354712246}, 'Facebook': {'Keep scrolling': -11.258053618560483, 'Close Facebook': -6.489974573408375}, 'Pub': {'Have a pint': 0.9454014270087486}, 'Pass': {'Fall asleep': 0.0}, 'Asleep': {}}\n",
    "{'Class 1': {'Study': 1.3338704627380917, 'Go on Facebook': -11.222578014516461}, 'Class 2': {'Study': 4.404498313710967, 'Fall asleep': 0.0}, 'Class 3': {'Study': 9.999996607231745, 'Go to the pub': 1.9330819535637127}, 'Facebook': {'Keep scrolling': -11.237574593720579, 'Close Facebook': -6.649035509952115}, 'Pub': {'Have a pint': 1.0198591832482675}, 'Pass': {'Fall asleep': 0.0}, 'Asleep': {}}\n",
    "{'Class 1': {'Study': 1.255108027766012, 'Go on Facebook': -11.190843458457234}, 'Class 2': {'Study': 4.3028079916966, 'Fall asleep': 0.0}, 'Class 3': {'Study': 9.999996368375, 'Go to the pub': 1.692402249138645}, 'Facebook': {'Keep scrolling': -11.009224020468848, 'Close Facebook': -6.456279660637165}, 'Pub': {'Have a pint': 0.7467114530860179}, 'Pass': {'Fall asleep': 0.0}, 'Asleep': {}}\n",
    "{'Class 1': {'Study': 1.2734946938741027, 'Go on Facebook': -11.328006914127434}, 'Class 2': {'Study': 4.256107269897298, 'Fall asleep': 0.0}, 'Class 3': {'Study': 9.99999635381211, 'Go to the pub': 1.74113336614775}, 'Facebook': {'Keep scrolling': -11.34039736455563, 'Close Facebook': -6.777709970724558}, 'Pub': {'Have a pint': 0.7694312629253455}, 'Pass': {'Fall asleep': 0.0}, 'Asleep': {}}\n",
    "{'Class 1': {'Study': 1.2650695038546025, 'Go on Facebook': -11.30468184426212}, 'Class 2': {'Study': 4.407552596737938, 'Fall asleep': 0.0}, 'Class 3': {'Study': 9.99999695776742, 'Go to the pub': 1.8487809354712246}, 'Facebook': {'Keep scrolling': -11.258053618560483, 'Close Facebook': -6.489974573408375}, 'Pub': {'Have a pint': 0.9454014270087486}, 'Pass': {'Fall asleep': 0.0}, 'Asleep': {}}"
   ]
  },
  {
   "cell_type": "markdown",
   "id": "c98b0d1e",
   "metadata": {},
   "source": [
    "Try with $\\gamma=0$"
   ]
  },
  {
   "cell_type": "markdown",
   "id": "08053451",
   "metadata": {},
   "source": [
    "# 3 | Policy Improvement\n",
    "\n",
    "<img src='https://github.com/tombewley/one-hour-rl/blob/main/images/policy-improvement-2.PNG?raw=true' width='500'>\n",
    "\n",
    "Having evaluated our policy $\\pi$, how can we go about obtaining a better one? This question is the heart of *policy improvement*, perhaps the fundamental concept of RL. Recall, when we performed policy evaluation we obtained the value of taking every action in every state. Thus, we can perform policy improvement readily by picking our current best estimate of the optimal action from each state -- so-called *greedy* action selection. Once we've obtained a new policy, we can evaluate it as before. Continually iterating between policy evaluation and policy improvement in this way, we are guarenteed to reach the optimal policy $\\pi^*$ according to the policy improvement theorem."
   ]
  },
  {
   "cell_type": "markdown",
   "id": "23537198",
   "metadata": {},
   "source": [
    "### 3.1 | Q-learning: Combining Policy Evaluation and Improvement\n",
    "\n",
    "<img src='https://github.com/tombewley/one-hour-rl/blob/main/images/q-learning.png?raw=true' width='700'>"
   ]
  },
  {
   "cell_type": "code",
   "execution_count": 31,
   "id": "9d671f2b",
   "metadata": {},
   "outputs": [],
   "source": [
    "from mdp import StudentMDP\n",
    "mdp = StudentMDP(verbose=True)"
   ]
  },
  {
   "cell_type": "code",
   "execution_count": 32,
   "id": "5e05ffca",
   "metadata": {},
   "outputs": [],
   "source": [
    "from agent import QLearningAgent\n",
    "agent = QLearningAgent(mdp, epsilon=1.0, alpha=0.2, gamma=0.9)"
   ]
  },
  {
   "cell_type": "code",
   "execution_count": 33,
   "id": "75d23e8e",
   "metadata": {},
   "outputs": [
    {
     "name": "stdout",
     "output_type": "stream",
     "text": [
      "=========================== EPISODE   1 ===========================\n",
      "| Time  | State    | Action         | Reward | Next state | Done  |\n",
      "|-------|----------|----------------|--------|------------|-------|\n",
      "| 0     | Class 1  | Study          | -2.0   | Class 2    | False |\n",
      "| 1     | Class 2  | Study          | -2.0   | Class 3    | False |\n",
      "| 2     | Class 3  | Study          | 10.0   | Pass       | False |\n",
      "| 3     | Pass     | Fall asleep    |  0.0   | Asleep     | True  |\n",
      "Value function:\n",
      "{'Class 1': {'Study': -0.4, 'Go on Facebook': 0.0}, 'Class 2': {'Study': -0.4, 'Fall asleep': 0.0}, 'Class 3': {'Study': 2.0, 'Go to the pub': 0.0}, 'Facebook': {'Keep scrolling': 0.0, 'Close Facebook': 0.0}, 'Pub': {'Have a pint': 0.0}, 'Pass': {'Fall asleep': 0.0}, 'Asleep': {}}\n",
      "Policy:\n",
      "{'Class 1': {'Study': 0.5, 'Go on Facebook': 0.5}, 'Class 2': {'Study': 0.5, 'Fall asleep': 0.5}, 'Class 3': {'Study': 0.5, 'Go to the pub': 0.5}, 'Facebook': {'Keep scrolling': 0.5, 'Close Facebook': 0.5}, 'Pub': {'Have a pint': 1.0}, 'Pass': {'Fall asleep': 1.0}, 'Asleep': {}}\n",
      "Epsilon: 1.0\n",
      "=========================== EPISODE   2 ===========================\n",
      "| Time  | State    | Action         | Reward | Next state | Done  |\n",
      "|-------|----------|----------------|--------|------------|-------|\n",
      "| 0     | Class 1  | Study          | -2.0   | Class 2    | False |\n",
      "| 1     | Class 2  | Study          | -2.0   | Class 3    | False |\n",
      "| 2     | Class 3  | Go to the pub  |  1.0   | Pub        | False |\n",
      "| 3     | Pub      | Have a pint    | -2.0   | Class 3    | False |\n",
      "| 4     | Class 3  | Go to the pub  |  1.0   | Pub        | False |\n",
      "| 5     | Pub      | Have a pint    | -2.0   | Class 1    | False |\n",
      "| 6     | Class 1  | Go on Facebook | -1.0   | Facebook   | False |\n",
      "| 7     | Facebook | Keep scrolling | -1.0   | Facebook   | False |\n",
      "| 8     | Facebook | Close Facebook | -2.0   | Class 1    | False |\n",
      "| 9     | Class 1  | Study          | -2.0   | Class 2    | False |\n",
      "| 10    | Class 2  | Study          | -2.0   | Class 3    | False |\n",
      "| 11    | Class 3  | Study          | 10.0   | Pass       | False |\n",
      "| 12    | Pass     | Fall asleep    |  0.0   | Asleep     | True  |\n",
      "Value function:\n",
      "{'Class 1': {'Study': -0.976, 'Go on Facebook': -0.2}, 'Class 2': {'Study': -0.32799999999999996, 'Fall asleep': 0.0}, 'Class 3': {'Study': 3.6, 'Go to the pub': 0.3528}, 'Facebook': {'Keep scrolling': -0.2, 'Close Facebook': -0.43600000000000005}, 'Pub': {'Have a pint': -0.432}, 'Pass': {'Fall asleep': 0.0}, 'Asleep': {}}\n",
      "Policy:\n",
      "{'Class 1': {'Study': 0.4897959183673469, 'Go on Facebook': 0.5102040816326531}, 'Class 2': {'Study': 0.4897959183673469, 'Fall asleep': 0.5102040816326531}, 'Class 3': {'Study': 0.5102040816326531, 'Go to the pub': 0.4897959183673469}, 'Facebook': {'Keep scrolling': 0.5102040816326531, 'Close Facebook': 0.4897959183673469}, 'Pub': {'Have a pint': 1.0}, 'Pass': {'Fall asleep': 1.0}, 'Asleep': {}}\n",
      "Epsilon: 0.9795918367346939\n",
      "=========================== EPISODE   3 ===========================\n",
      "| Time  | State    | Action         | Reward | Next state | Done  |\n",
      "|-------|----------|----------------|--------|------------|-------|\n",
      "| 0     | Class 1  | Go on Facebook | -1.0   | Facebook   | False |\n",
      "| 1     | Facebook | Close Facebook | -2.0   | Class 1    | False |\n",
      "| 2     | Class 1  | Go on Facebook | -1.0   | Facebook   | False |\n",
      "| 3     | Facebook | Keep scrolling | -1.0   | Facebook   | False |\n",
      "| 4     | Facebook | Close Facebook | -2.0   | Class 1    | False |\n",
      "| 5     | Class 1  | Study          | -2.0   | Class 2    | False |\n",
      "| 6     | Class 2  | Study          | -2.0   | Class 3    | False |\n",
      "| 7     | Class 3  | Study          | 10.0   | Pass       | False |\n",
      "| 8     | Pass     | Fall asleep    |  0.0   | Asleep     | True  |\n",
      "Value function:\n",
      "{'Class 1': {'Study': -1.1808, 'Go on Facebook': -0.5528}, 'Class 2': {'Study': -0.014399999999999913, 'Fall asleep': 0.0}, 'Class 3': {'Study': 4.880000000000001, 'Go to the pub': 0.3528}, 'Facebook': {'Keep scrolling': -0.396, 'Close Facebook': -1.1555680000000002}, 'Pub': {'Have a pint': -0.432}, 'Pass': {'Fall asleep': 0.0}, 'Asleep': {}}\n",
      "Policy:\n",
      "{'Class 1': {'Study': 0.47959183673469385, 'Go on Facebook': 0.5204081632653061}, 'Class 2': {'Study': 0.47959183673469385, 'Fall asleep': 0.5204081632653061}, 'Class 3': {'Study': 0.5204081632653061, 'Go to the pub': 0.47959183673469385}, 'Facebook': {'Keep scrolling': 0.5204081632653061, 'Close Facebook': 0.47959183673469385}, 'Pub': {'Have a pint': 1.0}, 'Pass': {'Fall asleep': 1.0}, 'Asleep': {}}\n",
      "Epsilon: 0.9591836734693877\n",
      "=========================== EPISODE   4 ===========================\n",
      "| Time  | State    | Action         | Reward | Next state | Done  |\n",
      "|-------|----------|----------------|--------|------------|-------|\n",
      "| 0     | Class 1  | Study          | -2.0   | Class 2    | False |\n",
      "| 1     | Class 2  | Fall asleep    |  0.0   | Asleep     | True  |\n",
      "Value function:\n",
      "{'Class 1': {'Study': -1.34464, 'Go on Facebook': -0.5528}, 'Class 2': {'Study': -0.014399999999999913, 'Fall asleep': 0.0}, 'Class 3': {'Study': 4.880000000000001, 'Go to the pub': 0.3528}, 'Facebook': {'Keep scrolling': -0.396, 'Close Facebook': -1.1555680000000002}, 'Pub': {'Have a pint': -0.432}, 'Pass': {'Fall asleep': 0.0}, 'Asleep': {}}\n",
      "Policy:\n",
      "{'Class 1': {'Study': 0.4693877551020408, 'Go on Facebook': 0.5306122448979592}, 'Class 2': {'Study': 0.4693877551020408, 'Fall asleep': 0.5306122448979592}, 'Class 3': {'Study': 0.5306122448979592, 'Go to the pub': 0.4693877551020408}, 'Facebook': {'Keep scrolling': 0.5306122448979592, 'Close Facebook': 0.4693877551020408}, 'Pub': {'Have a pint': 1.0}, 'Pass': {'Fall asleep': 1.0}, 'Asleep': {}}\n",
      "Epsilon: 0.9387755102040816\n",
      "=========================== EPISODE   5 ===========================\n",
      "| Time  | State    | Action         | Reward | Next state | Done  |\n",
      "|-------|----------|----------------|--------|------------|-------|\n",
      "| 0     | Class 1  | Go on Facebook | -1.0   | Facebook   | False |\n",
      "| 1     | Facebook | Close Facebook | -2.0   | Class 1    | False |\n",
      "| 2     | Class 1  | Go on Facebook | -1.0   | Facebook   | False |\n",
      "| 3     | Facebook | Keep scrolling | -1.0   | Facebook   | False |\n",
      "| 4     | Facebook | Keep scrolling | -1.0   | Facebook   | False |\n",
      "| 5     | Facebook | Close Facebook | -2.0   | Class 1    | False |\n",
      "| 6     | Class 1  | Go on Facebook | -1.0   | Facebook   | False |\n",
      "| 7     | Facebook | Close Facebook | -2.0   | Class 1    | False |\n",
      "| 8     | Class 1  | Go on Facebook | -1.0   | Facebook   | False |\n",
      "| 9     | Facebook | Keep scrolling | -1.0   | Facebook   | False |\n",
      "| 10    | Facebook | Keep scrolling | -1.0   | Facebook   | False |\n",
      "| 11    | Facebook | Keep scrolling | -1.0   | Facebook   | False |\n",
      "| 12    | Facebook | Close Facebook | -2.0   | Class 1    | False |\n",
      "| 13    | Class 1  | Go on Facebook | -1.0   | Facebook   | False |\n",
      "| 14    | Facebook | Keep scrolling | -1.0   | Facebook   | False |\n",
      "| 15    | Facebook | Keep scrolling | -1.0   | Facebook   | False |\n",
      "| 16    | Facebook | Close Facebook | -2.0   | Class 1    | False |\n",
      "| 17    | Class 1  | Study          | -2.0   | Class 2    | False |\n",
      "| 18    | Class 2  | Study          | -2.0   | Class 3    | False |\n",
      "| 19    | Class 3  | Go to the pub  |  1.0   | Pub        | False |\n",
      "| 20    | Pub      | Have a pint    | -2.0   | Class 2    | False |\n",
      "| 21    | Class 2  | Study          | -2.0   | Class 3    | False |\n",
      "| 22    | Class 3  | Study          | 10.0   | Pass       | False |\n",
      "| 23    | Pass     | Fall asleep    |  0.0   | Asleep     | True  |\n",
      "Value function:\n",
      "{'Class 1': {'Study': -1.4757120000000001, 'Go on Facebook': -1.357748921435904}, 'Class 2': {'Study': 0.8519040000000005, 'Fall asleep': 0.0}, 'Class 3': {'Study': 5.904000000000001, 'Go to the pub': 0.40448}, 'Facebook': {'Keep scrolling': -1.662522378698501, 'Close Facebook': -2.3779584764928003}, 'Pub': {'Have a pint': -0.6615616}, 'Pass': {'Fall asleep': 0.0}, 'Asleep': {}}\n",
      "Policy:\n",
      "{'Class 1': {'Study': 0.4591836734693877, 'Go on Facebook': 0.5408163265306123}, 'Class 2': {'Study': 0.5408163265306123, 'Fall asleep': 0.4591836734693877}, 'Class 3': {'Study': 0.5408163265306123, 'Go to the pub': 0.4591836734693877}, 'Facebook': {'Keep scrolling': 0.5408163265306123, 'Close Facebook': 0.4591836734693877}, 'Pub': {'Have a pint': 1.0}, 'Pass': {'Fall asleep': 1.0}, 'Asleep': {}}\n",
      "Epsilon: 0.9183673469387754\n",
      "=========================== EPISODE   6 ===========================\n",
      "| Time  | State    | Action         | Reward | Next state | Done  |\n",
      "|-------|----------|----------------|--------|------------|-------|\n",
      "| 0     | Class 1  | Go on Facebook | -1.0   | Facebook   | False |\n",
      "| 1     | Facebook | Keep scrolling | -1.0   | Facebook   | False |\n",
      "| 2     | Facebook | Keep scrolling | -1.0   | Facebook   | False |\n",
      "| 3     | Facebook | Keep scrolling | -1.0   | Facebook   | False |\n",
      "| 4     | Facebook | Close Facebook | -2.0   | Class 1    | False |\n",
      "| 5     | Class 1  | Study          | -2.0   | Class 2    | False |\n",
      "| 6     | Class 2  | Study          | -2.0   | Class 3    | False |\n",
      "| 7     | Class 3  | Study          | 10.0   | Pass       | False |\n",
      "| 8     | Pass     | Fall asleep    |  0.0   | Asleep     | True  |\n",
      "Value function:\n",
      "{'Class 1': {'Study': -1.42722688, 'Go on Facebook': -1.5854531653144535}, 'Class 2': {'Study': 1.3442432000000006, 'Fall asleep': 0.0}, 'Class 3': {'Study': 6.7232, 'Go to the pub': 0.40448}, 'Facebook': {'Keep scrolling': -2.1528327626519994, 'Close Facebook': -2.5679949411942404}, 'Pub': {'Have a pint': -0.6615616}, 'Pass': {'Fall asleep': 0.0}, 'Asleep': {}}\n",
      "Policy:\n",
      "{'Class 1': {'Study': 0.5510204081632654, 'Go on Facebook': 0.44897959183673464}, 'Class 2': {'Study': 0.5510204081632654, 'Fall asleep': 0.44897959183673464}, 'Class 3': {'Study': 0.5510204081632654, 'Go to the pub': 0.44897959183673464}, 'Facebook': {'Keep scrolling': 0.5510204081632654, 'Close Facebook': 0.44897959183673464}, 'Pub': {'Have a pint': 1.0}, 'Pass': {'Fall asleep': 1.0}, 'Asleep': {}}\n",
      "Epsilon: 0.8979591836734693\n",
      "=========================== EPISODE   7 ===========================\n",
      "| Time  | State    | Action         | Reward | Next state | Done  |\n",
      "|-------|----------|----------------|--------|------------|-------|\n",
      "| 0     | Class 1  | Go on Facebook | -1.0   | Facebook   | False |\n",
      "| 1     | Facebook | Keep scrolling | -1.0   | Facebook   | False |\n",
      "| 2     | Facebook | Close Facebook | -2.0   | Class 1    | False |\n",
      "| 3     | Class 1  | Study          | -2.0   | Class 2    | False |\n",
      "| 4     | Class 2  | Study          | -2.0   | Class 3    | False |\n",
      "| 5     | Class 3  | Go to the pub  |  1.0   | Pub        | False |\n",
      "| 6     | Pub      | Have a pint    | -2.0   | Class 2    | False |\n",
      "| 7     | Class 2  | Fall asleep    |  0.0   | Asleep     | True  |\n",
      "Value function:\n",
      "{'Class 1': {'Study': -1.2998177279999998, 'Go on Facebook': -1.8558724295289226}, 'Class 2': {'Study': 1.8855705600000006, 'Fall asleep': 0.0}, 'Class 3': {'Study': 6.7232, 'Go to the pub': 0.404502912}, 'Facebook': {'Keep scrolling': -2.3097761073989593, 'Close Facebook': -2.7112967913553923}, 'Pub': {'Have a pint': -0.5898465791999998}, 'Pass': {'Fall asleep': 0.0}, 'Asleep': {}}\n",
      "Policy:\n",
      "{'Class 1': {'Study': 0.5612244897959184, 'Go on Facebook': 0.43877551020408156}, 'Class 2': {'Study': 0.5612244897959184, 'Fall asleep': 0.43877551020408156}, 'Class 3': {'Study': 0.5612244897959184, 'Go to the pub': 0.43877551020408156}, 'Facebook': {'Keep scrolling': 0.5612244897959184, 'Close Facebook': 0.43877551020408156}, 'Pub': {'Have a pint': 1.0}, 'Pass': {'Fall asleep': 1.0}, 'Asleep': {}}\n",
      "Epsilon: 0.8775510204081631\n",
      "=========================== EPISODE   8 ===========================\n",
      "| Time  | State    | Action         | Reward | Next state | Done  |\n",
      "|-------|----------|----------------|--------|------------|-------|\n",
      "| 0     | Class 1  | Go on Facebook | -1.0   | Facebook   | False |\n",
      "| 1     | Facebook | Keep scrolling | -1.0   | Facebook   | False |\n",
      "| 2     | Facebook | Close Facebook | -2.0   | Class 1    | False |\n",
      "| 3     | Class 1  | Go on Facebook | -1.0   | Facebook   | False |\n",
      "| 4     | Facebook | Close Facebook | -2.0   | Class 1    | False |\n",
      "| 5     | Class 1  | Study          | -2.0   | Class 2    | False |\n",
      "| 6     | Class 2  | Study          | -2.0   | Class 3    | False |\n",
      "| 7     | Class 3  | Go to the pub  |  1.0   | Pub        | False |\n",
      "| 8     | Pub      | Have a pint    | -2.0   | Class 2    | False |\n",
      "| 9     | Class 2  | Fall asleep    |  0.0   | Asleep     | True  |\n",
      "Value function:\n",
      "{'Class 1': {'Study': -1.1004514815999997, 'Go on Facebook': -2.323810619709137}, 'Class 2': {'Study': 2.3186324480000007, 'Fall asleep': 0.0}, 'Class 3': {'Study': 6.7232, 'Go to the pub': 0.417429945344}, 'Facebook': {'Keep scrolling': -2.46358058525098, 'Close Facebook': -2.8763708903394507}, 'Pub': {'Have a pint': -0.4545234227199997}, 'Pass': {'Fall asleep': 0.0}, 'Asleep': {}}\n",
      "Policy:\n",
      "{'Class 1': {'Study': 0.5714285714285715, 'Go on Facebook': 0.4285714285714285}, 'Class 2': {'Study': 0.5714285714285715, 'Fall asleep': 0.4285714285714285}, 'Class 3': {'Study': 0.5714285714285715, 'Go to the pub': 0.4285714285714285}, 'Facebook': {'Keep scrolling': 0.5714285714285715, 'Close Facebook': 0.4285714285714285}, 'Pub': {'Have a pint': 1.0}, 'Pass': {'Fall asleep': 1.0}, 'Asleep': {}}\n",
      "Epsilon: 0.857142857142857\n",
      "=========================== EPISODE   9 ===========================\n",
      "| Time  | State    | Action         | Reward | Next state | Done  |\n",
      "|-------|----------|----------------|--------|------------|-------|\n",
      "| 0     | Class 1  | Go on Facebook | -1.0   | Facebook   | False |\n",
      "| 1     | Facebook | Keep scrolling | -1.0   | Facebook   | False |\n",
      "| 2     | Facebook | Keep scrolling | -1.0   | Facebook   | False |\n",
      "| 3     | Facebook | Keep scrolling | -1.0   | Facebook   | False |\n",
      "| 4     | Facebook | Keep scrolling | -1.0   | Facebook   | False |\n",
      "| 5     | Facebook | Close Facebook | -2.0   | Class 1    | False |\n",
      "| 6     | Class 1  | Study          | -2.0   | Class 2    | False |\n",
      "| 7     | Class 2  | Fall asleep    |  0.0   | Asleep     | True  |\n",
      "Value function:\n",
      "{'Class 1': {'Study': -0.8630073446399996, 'Go on Facebook': -2.502493001112486}, 'Class 2': {'Study': 2.3186324480000007, 'Fall asleep': 0.0}, 'Class 3': {'Study': 6.7232, 'Go to the pub': 0.417429945344}, 'Facebook': {'Keep scrolling': -3.0431726308159335, 'Close Facebook': -2.8991779789595604}, 'Pub': {'Have a pint': -0.4545234227199997}, 'Pass': {'Fall asleep': 0.0}, 'Asleep': {}}\n",
      "Policy:\n",
      "{'Class 1': {'Study': 0.5816326530612246, 'Go on Facebook': 0.4183673469387754}, 'Class 2': {'Study': 0.5816326530612246, 'Fall asleep': 0.4183673469387754}, 'Class 3': {'Study': 0.5816326530612246, 'Go to the pub': 0.4183673469387754}, 'Facebook': {'Keep scrolling': 0.4183673469387754, 'Close Facebook': 0.5816326530612246}, 'Pub': {'Have a pint': 1.0}, 'Pass': {'Fall asleep': 1.0}, 'Asleep': {}}\n",
      "Epsilon: 0.8367346938775508\n",
      "=========================== EPISODE  10 ===========================\n",
      "| Time  | State    | Action         | Reward | Next state | Done  |\n",
      "|-------|----------|----------------|--------|------------|-------|\n",
      "| 0     | Class 1  | Study          | -2.0   | Class 2    | False |\n",
      "| 1     | Class 2  | Fall asleep    |  0.0   | Asleep     | True  |\n",
      "Value function:\n",
      "{'Class 1': {'Study': -0.6730520350719995, 'Go on Facebook': -2.502493001112486}, 'Class 2': {'Study': 2.3186324480000007, 'Fall asleep': 0.0}, 'Class 3': {'Study': 6.7232, 'Go to the pub': 0.417429945344}, 'Facebook': {'Keep scrolling': -3.0431726308159335, 'Close Facebook': -2.8991779789595604}, 'Pub': {'Have a pint': -0.4545234227199997}, 'Pass': {'Fall asleep': 0.0}, 'Asleep': {}}\n",
      "Policy:\n",
      "{'Class 1': {'Study': 0.5918367346938777, 'Go on Facebook': 0.40816326530612235}, 'Class 2': {'Study': 0.5918367346938777, 'Fall asleep': 0.40816326530612235}, 'Class 3': {'Study': 0.5918367346938777, 'Go to the pub': 0.40816326530612235}, 'Facebook': {'Keep scrolling': 0.40816326530612235, 'Close Facebook': 0.5918367346938777}, 'Pub': {'Have a pint': 1.0}, 'Pass': {'Fall asleep': 1.0}, 'Asleep': {}}\n",
      "Epsilon: 0.8163265306122447\n",
      "=========================== EPISODE  11 ===========================\n",
      "| Time  | State    | Action         | Reward | Next state | Done  |\n",
      "|-------|----------|----------------|--------|------------|-------|\n",
      "| 0     | Class 1  | Go on Facebook | -1.0   | Facebook   | False |\n",
      "| 1     | Facebook | Keep scrolling | -1.0   | Facebook   | False |\n",
      "| 2     | Facebook | Close Facebook | -2.0   | Class 1    | False |\n",
      "| 3     | Class 1  | Go on Facebook | -1.0   | Facebook   | False |\n",
      "| 4     | Facebook | Close Facebook | -2.0   | Class 1    | False |\n",
      "| 5     | Class 1  | Go on Facebook | -1.0   | Facebook   | False |\n",
      "| 6     | Facebook | Keep scrolling | -1.0   | Facebook   | False |\n",
      "| 7     | Facebook | Close Facebook | -2.0   | Class 1    | False |\n",
      "| 8     | Class 1  | Study          | -2.0   | Class 2    | False |\n",
      "| 9     | Class 2  | Study          | -2.0   | Class 3    | False |\n",
      "| 10    | Class 3  | Study          | 10.0   | Pass       | False |\n",
      "| 11    | Pass     | Fall asleep    |  0.0   | Asleep     | True  |\n",
      "Value function:\n",
      "{'Class 1': {'Study': -0.5210877874175994, 'Go on Facebook': -3.015130229532482}, 'Class 2': {'Study': 2.6650819584000005, 'Fall asleep': 0.0}, 'Class 3': {'Study': 7.37856, 'Go to the pub': 0.417429945344}, 'Facebook': {'Keep scrolling': -3.227949810553915, 'Close Facebook': -2.7559835790309175}, 'Pub': {'Have a pint': -0.4545234227199997}, 'Pass': {'Fall asleep': 0.0}, 'Asleep': {}}\n",
      "Policy:\n",
      "{'Class 1': {'Study': 0.6020408163265307, 'Go on Facebook': 0.3979591836734693}, 'Class 2': {'Study': 0.6020408163265307, 'Fall asleep': 0.3979591836734693}, 'Class 3': {'Study': 0.6020408163265307, 'Go to the pub': 0.3979591836734693}, 'Facebook': {'Keep scrolling': 0.3979591836734693, 'Close Facebook': 0.6020408163265307}, 'Pub': {'Have a pint': 1.0}, 'Pass': {'Fall asleep': 1.0}, 'Asleep': {}}\n",
      "Epsilon: 0.7959183673469385\n",
      "=========================== EPISODE  12 ===========================\n",
      "| Time  | State    | Action         | Reward | Next state | Done  |\n",
      "|-------|----------|----------------|--------|------------|-------|\n",
      "| 0     | Class 1  | Go on Facebook | -1.0   | Facebook   | False |\n",
      "| 1     | Facebook | Keep scrolling | -1.0   | Facebook   | False |\n",
      "| 2     | Facebook | Close Facebook | -2.0   | Class 1    | False |\n",
      "| 3     | Class 1  | Go on Facebook | -1.0   | Facebook   | False |\n",
      "| 4     | Facebook | Close Facebook | -2.0   | Class 1    | False |\n",
      "| 5     | Class 1  | Study          | -2.0   | Class 2    | False |\n",
      "| 6     | Class 2  | Fall asleep    |  0.0   | Asleep     | True  |\n",
      "Value function:\n",
      "{'Class 1': {'Study': -0.33715547742207946, 'Go on Facebook': -3.172289861974023}, 'Class 2': {'Study': 2.6650819584000005, 'Fall asleep': 0.0}, 'Class 3': {'Study': 7.37856, 'Go to the pub': 0.417429945344}, 'Facebook': {'Keep scrolling': -3.278436892668697, 'Close Facebook': -2.6526619337030892}, 'Pub': {'Have a pint': -0.4545234227199997}, 'Pass': {'Fall asleep': 0.0}, 'Asleep': {}}\n",
      "Policy:\n",
      "{'Class 1': {'Study': 0.6122448979591838, 'Go on Facebook': 0.3877551020408162}, 'Class 2': {'Study': 0.6122448979591838, 'Fall asleep': 0.3877551020408162}, 'Class 3': {'Study': 0.6122448979591838, 'Go to the pub': 0.3877551020408162}, 'Facebook': {'Keep scrolling': 0.3877551020408162, 'Close Facebook': 0.6122448979591838}, 'Pub': {'Have a pint': 1.0}, 'Pass': {'Fall asleep': 1.0}, 'Asleep': {}}\n",
      "Epsilon: 0.7755102040816324\n",
      "=========================== EPISODE  13 ===========================\n",
      "| Time  | State    | Action         | Reward | Next state | Done  |\n",
      "|-------|----------|----------------|--------|------------|-------|\n",
      "| 0     | Class 1  | Go on Facebook | -1.0   | Facebook   | False |\n",
      "| 1     | Facebook | Keep scrolling | -1.0   | Facebook   | False |\n",
      "| 2     | Facebook | Keep scrolling | -1.0   | Facebook   | False |\n",
      "| 3     | Facebook | Close Facebook | -2.0   | Class 1    | False |\n",
      "| 4     | Class 1  | Study          | -2.0   | Class 2    | False |\n",
      "| 5     | Class 2  | Study          | -2.0   | Class 3    | False |\n",
      "| 6     | Class 3  | Go to the pub  |  1.0   | Pub        | False |\n",
      "| 7     | Pub      | Have a pint    | -2.0   | Class 2    | False |\n",
      "| 8     | Class 2  | Study          | -2.0   | Class 3    | False |\n",
      "| 9     | Class 3  | Study          | 10.0   | Pass       | False |\n",
      "| 10    | Pass     | Fall asleep    |  0.0   | Asleep     | True  |\n",
      "Value function:\n",
      "{'Class 1': {'Study': -0.1900096294256635, 'Go on Facebook': -3.2153110376457743}, 'Class 2': {'Study': 3.3763058933760006, 'Fall asleep': 0.0}, 'Class 3': {'Study': 7.9028480000000005, 'Go to the pub': 0.45212974018560004}, 'Facebook': {'Keep scrolling': -3.3176620778277672, 'Close Facebook': -2.5828175328984457}, 'Pub': {'Have a pint': -0.21278159216639966}, 'Pass': {'Fall asleep': 0.0}, 'Asleep': {}}\n",
      "Policy:\n",
      "{'Class 1': {'Study': 0.6224489795918369, 'Go on Facebook': 0.37755102040816313}, 'Class 2': {'Study': 0.6224489795918369, 'Fall asleep': 0.37755102040816313}, 'Class 3': {'Study': 0.6224489795918369, 'Go to the pub': 0.37755102040816313}, 'Facebook': {'Keep scrolling': 0.37755102040816313, 'Close Facebook': 0.6224489795918369}, 'Pub': {'Have a pint': 1.0}, 'Pass': {'Fall asleep': 1.0}, 'Asleep': {}}\n",
      "Epsilon: 0.7551020408163263\n",
      "=========================== EPISODE  14 ===========================\n",
      "| Time  | State    | Action         | Reward | Next state | Done  |\n",
      "|-------|----------|----------------|--------|------------|-------|\n",
      "| 0     | Class 1  | Go on Facebook | -1.0   | Facebook   | False |\n",
      "| 1     | Facebook | Close Facebook | -2.0   | Class 1    | False |\n",
      "| 2     | Class 1  | Study          | -2.0   | Class 2    | False |\n",
      "| 3     | Class 2  | Fall asleep    |  0.0   | Asleep     | True  |\n",
      "Value function:\n",
      "{'Class 1': {'Study': 0.05572735726714936, 'Go on Facebook': -3.23715598603834}, 'Class 2': {'Study': 3.3763058933760006, 'Fall asleep': 0.0}, 'Class 3': {'Study': 7.9028480000000005, 'Go to the pub': 0.45212974018560004}, 'Facebook': {'Keep scrolling': -3.3176620778277672, 'Close Facebook': -2.500455759615376}, 'Pub': {'Have a pint': -0.21278159216639966}, 'Pass': {'Fall asleep': 0.0}, 'Asleep': {}}\n",
      "Policy:\n",
      "{'Class 1': {'Study': 0.6326530612244899, 'Go on Facebook': 0.36734693877551006}, 'Class 2': {'Study': 0.6326530612244899, 'Fall asleep': 0.36734693877551006}, 'Class 3': {'Study': 0.6326530612244899, 'Go to the pub': 0.36734693877551006}, 'Facebook': {'Keep scrolling': 0.36734693877551006, 'Close Facebook': 0.6326530612244899}, 'Pub': {'Have a pint': 1.0}, 'Pass': {'Fall asleep': 1.0}, 'Asleep': {}}\n",
      "Epsilon: 0.7346938775510201\n",
      "=========================== EPISODE  15 ===========================\n",
      "| Time  | State    | Action         | Reward | Next state | Done  |\n",
      "|-------|----------|----------------|--------|------------|-------|\n",
      "| 0     | Class 1  | Go on Facebook | -1.0   | Facebook   | False |\n",
      "| 1     | Facebook | Close Facebook | -2.0   | Class 1    | False |\n",
      "| 2     | Class 1  | Study          | -2.0   | Class 2    | False |\n",
      "| 3     | Class 2  | Study          | -2.0   | Class 3    | False |\n",
      "| 4     | Class 3  | Study          | 10.0   | Pass       | False |\n",
      "| 5     | Pass     | Fall asleep    |  0.0   | Asleep     | True  |\n",
      "Value function:\n",
      "{'Class 1': {'Study': 0.25231694662139964, 'Go on Facebook': -3.2398068255614394}, 'Class 2': {'Study': 3.7235573547008007, 'Fall asleep': 0.0}, 'Class 3': {'Study': 8.3222784, 'Go to the pub': 0.45212974018560004}, 'Facebook': {'Keep scrolling': -3.3176620778277672, 'Close Facebook': -2.390333683384214}, 'Pub': {'Have a pint': -0.21278159216639966}, 'Pass': {'Fall asleep': 0.0}, 'Asleep': {}}\n",
      "Policy:\n",
      "{'Class 1': {'Study': 0.642857142857143, 'Go on Facebook': 0.357142857142857}, 'Class 2': {'Study': 0.642857142857143, 'Fall asleep': 0.357142857142857}, 'Class 3': {'Study': 0.642857142857143, 'Go to the pub': 0.357142857142857}, 'Facebook': {'Keep scrolling': 0.357142857142857, 'Close Facebook': 0.642857142857143}, 'Pub': {'Have a pint': 1.0}, 'Pass': {'Fall asleep': 1.0}, 'Asleep': {}}\n",
      "Epsilon: 0.714285714285714\n",
      "=========================== EPISODE  16 ===========================\n",
      "| Time  | State    | Action         | Reward | Next state | Done  |\n",
      "|-------|----------|----------------|--------|------------|-------|\n",
      "| 0     | Class 1  | Go on Facebook | -1.0   | Facebook   | False |\n",
      "| 1     | Facebook | Close Facebook | -2.0   | Class 1    | False |\n",
      "| 2     | Class 1  | Go on Facebook | -1.0   | Facebook   | False |\n",
      "| 3     | Facebook | Close Facebook | -2.0   | Class 1    | False |\n",
      "| 4     | Class 1  | Go on Facebook | -1.0   | Facebook   | False |\n",
      "| 5     | Facebook | Close Facebook | -2.0   | Class 1    | False |\n",
      "| 6     | Class 1  | Study          | -2.0   | Class 2    | False |\n",
      "| 7     | Class 2  | Study          | -2.0   | Class 3    | False |\n",
      "| 8     | Class 3  | Study          | 10.0   | Pass       | False |\n",
      "| 9     | Pass     | Fall asleep    |  0.0   | Asleep     | True  |\n",
      "Value function:\n",
      "{'Class 1': {'Study': 0.47209388114326384, 'Go on Facebook': -3.1388252360816544}, 'Class 2': {'Study': 4.07685599576064, 'Fall asleep': 0.0}, 'Class 3': {'Study': 8.65782272, 'Go to the pub': 0.45212974018560004}, 'Facebook': {'Keep scrolling': -3.3176620778277672, 'Close Facebook': -2.089033242936599}, 'Pub': {'Have a pint': -0.21278159216639966}, 'Pass': {'Fall asleep': 0.0}, 'Asleep': {}}\n",
      "Policy:\n",
      "{'Class 1': {'Study': 0.6530612244897961, 'Go on Facebook': 0.3469387755102039}, 'Class 2': {'Study': 0.6530612244897961, 'Fall asleep': 0.3469387755102039}, 'Class 3': {'Study': 0.6530612244897961, 'Go to the pub': 0.3469387755102039}, 'Facebook': {'Keep scrolling': 0.3469387755102039, 'Close Facebook': 0.6530612244897961}, 'Pub': {'Have a pint': 1.0}, 'Pass': {'Fall asleep': 1.0}, 'Asleep': {}}\n",
      "Epsilon: 0.6938775510204078\n",
      "=========================== EPISODE  17 ===========================\n",
      "| Time  | State    | Action         | Reward | Next state | Done  |\n",
      "|-------|----------|----------------|--------|------------|-------|\n",
      "| 0     | Class 1  | Study          | -2.0   | Class 2    | False |\n",
      "| 1     | Class 2  | Fall asleep    |  0.0   | Asleep     | True  |\n",
      "Value function:\n",
      "{'Class 1': {'Study': 0.7115091841515264, 'Go on Facebook': -3.1388252360816544}, 'Class 2': {'Study': 4.07685599576064, 'Fall asleep': 0.0}, 'Class 3': {'Study': 8.65782272, 'Go to the pub': 0.45212974018560004}, 'Facebook': {'Keep scrolling': -3.3176620778277672, 'Close Facebook': -2.089033242936599}, 'Pub': {'Have a pint': -0.21278159216639966}, 'Pass': {'Fall asleep': 0.0}, 'Asleep': {}}\n",
      "Policy:\n",
      "{'Class 1': {'Study': 0.6632653061224492, 'Go on Facebook': 0.33673469387755084}, 'Class 2': {'Study': 0.6632653061224492, 'Fall asleep': 0.33673469387755084}, 'Class 3': {'Study': 0.6632653061224492, 'Go to the pub': 0.33673469387755084}, 'Facebook': {'Keep scrolling': 0.33673469387755084, 'Close Facebook': 0.6632653061224492}, 'Pub': {'Have a pint': 1.0}, 'Pass': {'Fall asleep': 1.0}, 'Asleep': {}}\n",
      "Epsilon: 0.6734693877551017\n",
      "=========================== EPISODE  18 ===========================\n",
      "| Time  | State    | Action         | Reward | Next state | Done  |\n",
      "|-------|----------|----------------|--------|------------|-------|\n",
      "| 0     | Class 1  | Study          | -2.0   | Class 2    | False |\n",
      "| 1     | Class 2  | Study          | -2.0   | Class 3    | False |\n",
      "| 2     | Class 3  | Study          | 10.0   | Pass       | False |\n",
      "| 3     | Pass     | Fall asleep    |  0.0   | Asleep     | True  |\n",
      "Value function:\n",
      "{'Class 1': {'Study': 0.9030414265581365, 'Go on Facebook': -3.1388252360816544}, 'Class 2': {'Study': 4.419892886208513, 'Fall asleep': 0.0}, 'Class 3': {'Study': 8.926258176000001, 'Go to the pub': 0.45212974018560004}, 'Facebook': {'Keep scrolling': -3.3176620778277672, 'Close Facebook': -2.089033242936599}, 'Pub': {'Have a pint': -0.21278159216639966}, 'Pass': {'Fall asleep': 0.0}, 'Asleep': {}}\n",
      "Policy:\n",
      "{'Class 1': {'Study': 0.6734693877551022, 'Go on Facebook': 0.32653061224489777}, 'Class 2': {'Study': 0.6734693877551022, 'Fall asleep': 0.32653061224489777}, 'Class 3': {'Study': 0.6734693877551022, 'Go to the pub': 0.32653061224489777}, 'Facebook': {'Keep scrolling': 0.32653061224489777, 'Close Facebook': 0.6734693877551022}, 'Pub': {'Have a pint': 1.0}, 'Pass': {'Fall asleep': 1.0}, 'Asleep': {}}\n",
      "Epsilon: 0.6530612244897955\n",
      "=========================== EPISODE  19 ===========================\n",
      "| Time  | State    | Action         | Reward | Next state | Done  |\n",
      "|-------|----------|----------------|--------|------------|-------|\n",
      "| 0     | Class 1  | Study          | -2.0   | Class 2    | False |\n",
      "| 1     | Class 2  | Study          | -2.0   | Class 3    | False |\n",
      "| 2     | Class 3  | Study          | 10.0   | Pass       | False |\n",
      "| 3     | Pass     | Fall asleep    |  0.0   | Asleep     | True  |\n",
      "Value function:\n",
      "{'Class 1': {'Study': 1.1180138607640415, 'Go on Facebook': -3.1388252360816544}, 'Class 2': {'Study': 4.742640780646811, 'Fall asleep': 0.0}, 'Class 3': {'Study': 9.141006540800001, 'Go to the pub': 0.45212974018560004}, 'Facebook': {'Keep scrolling': -3.3176620778277672, 'Close Facebook': -2.089033242936599}, 'Pub': {'Have a pint': -0.21278159216639966}, 'Pass': {'Fall asleep': 0.0}, 'Asleep': {}}\n",
      "Policy:\n",
      "{'Class 1': {'Study': 0.6836734693877553, 'Go on Facebook': 0.3163265306122447}, 'Class 2': {'Study': 0.6836734693877553, 'Fall asleep': 0.3163265306122447}, 'Class 3': {'Study': 0.6836734693877553, 'Go to the pub': 0.3163265306122447}, 'Facebook': {'Keep scrolling': 0.3163265306122447, 'Close Facebook': 0.6836734693877553}, 'Pub': {'Have a pint': 1.0}, 'Pass': {'Fall asleep': 1.0}, 'Asleep': {}}\n",
      "Epsilon: 0.6326530612244894\n",
      "=========================== EPISODE  20 ===========================\n",
      "| Time  | State    | Action         | Reward | Next state | Done  |\n",
      "|-------|----------|----------------|--------|------------|-------|\n",
      "| 0     | Class 1  | Go on Facebook | -1.0   | Facebook   | False |\n",
      "| 1     | Facebook | Keep scrolling | -1.0   | Facebook   | False |\n",
      "| 2     | Facebook | Close Facebook | -2.0   | Class 1    | False |\n",
      "| 3     | Class 1  | Study          | -2.0   | Class 2    | False |\n",
      "| 4     | Class 2  | Study          | -2.0   | Class 3    | False |\n",
      "| 5     | Class 3  | Go to the pub  |  1.0   | Pub        | False |\n",
      "| 6     | Pub      | Have a pint    | -2.0   | Class 2    | False |\n",
      "| 7     | Class 2  | Study          | -2.0   | Class 3    | False |\n",
      "| 8     | Class 3  | Study          | 10.0   | Pass       | False |\n",
      "| 9     | Pass     | Fall asleep    |  0.0   | Asleep     | True  |\n",
      "Value function:\n",
      "{'Class 1': {'Study': 1.3480864291276593, 'Go on Facebook': -3.0870861725939114}, 'Class 2': {'Study': 5.276976218833159, 'Fall asleep': 0.0}, 'Class 3': {'Study': 9.31280523264, 'Go to the pub': 0.5234031055585281}, 'Facebook': {'Keep scrolling': -3.2301556459908016, 'Close Facebook': -1.8699840994117518}, 'Pub': {'Have a pint': 0.33688361060194105}, 'Pass': {'Fall asleep': 0.0}, 'Asleep': {}}\n",
      "Policy:\n",
      "{'Class 1': {'Study': 0.6938775510204084, 'Go on Facebook': 0.3061224489795916}, 'Class 2': {'Study': 0.6938775510204084, 'Fall asleep': 0.3061224489795916}, 'Class 3': {'Study': 0.6938775510204084, 'Go to the pub': 0.3061224489795916}, 'Facebook': {'Keep scrolling': 0.3061224489795916, 'Close Facebook': 0.6938775510204084}, 'Pub': {'Have a pint': 1.0}, 'Pass': {'Fall asleep': 1.0}, 'Asleep': {}}\n",
      "Epsilon: 0.6122448979591832\n",
      "=========================== EPISODE  21 ===========================\n",
      "| Time  | State    | Action         | Reward | Next state | Done  |\n",
      "|-------|----------|----------------|--------|------------|-------|\n",
      "| 0     | Class 1  | Study          | -2.0   | Class 2    | False |\n",
      "| 1     | Class 2  | Fall asleep    |  0.0   | Asleep     | True  |\n",
      "Value function:\n",
      "{'Class 1': {'Study': 1.628324862692096, 'Go on Facebook': -3.0870861725939114}, 'Class 2': {'Study': 5.276976218833159, 'Fall asleep': 0.0}, 'Class 3': {'Study': 9.31280523264, 'Go to the pub': 0.5234031055585281}, 'Facebook': {'Keep scrolling': -3.2301556459908016, 'Close Facebook': -1.8699840994117518}, 'Pub': {'Have a pint': 0.33688361060194105}, 'Pass': {'Fall asleep': 0.0}, 'Asleep': {}}\n",
      "Policy:\n",
      "{'Class 1': {'Study': 0.7040816326530615, 'Go on Facebook': 0.29591836734693855}, 'Class 2': {'Study': 0.7040816326530615, 'Fall asleep': 0.29591836734693855}, 'Class 3': {'Study': 0.7040816326530615, 'Go to the pub': 0.29591836734693855}, 'Facebook': {'Keep scrolling': 0.29591836734693855, 'Close Facebook': 0.7040816326530615}, 'Pub': {'Have a pint': 1.0}, 'Pass': {'Fall asleep': 1.0}, 'Asleep': {}}\n",
      "Epsilon: 0.5918367346938771\n",
      "=========================== EPISODE  22 ===========================\n",
      "| Time  | State    | Action         | Reward | Next state | Done  |\n",
      "|-------|----------|----------------|--------|------------|-------|\n",
      "| 0     | Class 1  | Study          | -2.0   | Class 2    | False |\n",
      "| 1     | Class 2  | Study          | -2.0   | Class 3    | False |\n",
      "| 2     | Class 3  | Study          | 10.0   | Pass       | False |\n",
      "| 3     | Pass     | Fall asleep    |  0.0   | Asleep     | True  |\n",
      "Value function:\n",
      "{'Class 1': {'Study': 1.8525156095436457, 'Go on Facebook': -3.0870861725939114}, 'Class 2': {'Study': 5.497885916941727, 'Fall asleep': 0.0}, 'Class 3': {'Study': 9.450244186112, 'Go to the pub': 0.5234031055585281}, 'Facebook': {'Keep scrolling': -3.2301556459908016, 'Close Facebook': -1.8699840994117518}, 'Pub': {'Have a pint': 0.33688361060194105}, 'Pass': {'Fall asleep': 0.0}, 'Asleep': {}}\n",
      "Policy:\n",
      "{'Class 1': {'Study': 0.7142857142857145, 'Go on Facebook': 0.2857142857142855}, 'Class 2': {'Study': 0.7142857142857145, 'Fall asleep': 0.2857142857142855}, 'Class 3': {'Study': 0.7142857142857145, 'Go to the pub': 0.2857142857142855}, 'Facebook': {'Keep scrolling': 0.2857142857142855, 'Close Facebook': 0.7142857142857145}, 'Pub': {'Have a pint': 1.0}, 'Pass': {'Fall asleep': 1.0}, 'Asleep': {}}\n",
      "Epsilon: 0.571428571428571\n",
      "=========================== EPISODE  23 ===========================\n",
      "| Time  | State    | Action         | Reward | Next state | Done  |\n",
      "|-------|----------|----------------|--------|------------|-------|\n",
      "| 0     | Class 1  | Study          | -2.0   | Class 2    | False |\n",
      "| 1     | Class 2  | Fall asleep    |  0.0   | Asleep     | True  |\n",
      "Value function:\n",
      "{'Class 1': {'Study': 2.0716319526844273, 'Go on Facebook': -3.0870861725939114}, 'Class 2': {'Study': 5.497885916941727, 'Fall asleep': 0.0}, 'Class 3': {'Study': 9.450244186112, 'Go to the pub': 0.5234031055585281}, 'Facebook': {'Keep scrolling': -3.2301556459908016, 'Close Facebook': -1.8699840994117518}, 'Pub': {'Have a pint': 0.33688361060194105}, 'Pass': {'Fall asleep': 0.0}, 'Asleep': {}}\n",
      "Policy:\n",
      "{'Class 1': {'Study': 0.7244897959183676, 'Go on Facebook': 0.2755102040816324}, 'Class 2': {'Study': 0.7244897959183676, 'Fall asleep': 0.2755102040816324}, 'Class 3': {'Study': 0.7244897959183676, 'Go to the pub': 0.2755102040816324}, 'Facebook': {'Keep scrolling': 0.2755102040816324, 'Close Facebook': 0.7244897959183676}, 'Pub': {'Have a pint': 1.0}, 'Pass': {'Fall asleep': 1.0}, 'Asleep': {}}\n",
      "Epsilon: 0.5510204081632648\n",
      "=========================== EPISODE  24 ===========================\n",
      "| Time  | State    | Action         | Reward | Next state | Done  |\n",
      "|-------|----------|----------------|--------|------------|-------|\n",
      "| 0     | Class 1  | Study          | -2.0   | Class 2    | False |\n",
      "| 1     | Class 2  | Fall asleep    |  0.0   | Asleep     | True  |\n",
      "Value function:\n",
      "{'Class 1': {'Study': 2.2469250271970527, 'Go on Facebook': -3.0870861725939114}, 'Class 2': {'Study': 5.497885916941727, 'Fall asleep': 0.0}, 'Class 3': {'Study': 9.450244186112, 'Go to the pub': 0.5234031055585281}, 'Facebook': {'Keep scrolling': -3.2301556459908016, 'Close Facebook': -1.8699840994117518}, 'Pub': {'Have a pint': 0.33688361060194105}, 'Pass': {'Fall asleep': 0.0}, 'Asleep': {}}\n",
      "Policy:\n",
      "{'Class 1': {'Study': 0.7346938775510207, 'Go on Facebook': 0.26530612244897933}, 'Class 2': {'Study': 0.7346938775510207, 'Fall asleep': 0.26530612244897933}, 'Class 3': {'Study': 0.7346938775510207, 'Go to the pub': 0.26530612244897933}, 'Facebook': {'Keep scrolling': 0.26530612244897933, 'Close Facebook': 0.7346938775510207}, 'Pub': {'Have a pint': 1.0}, 'Pass': {'Fall asleep': 1.0}, 'Asleep': {}}\n",
      "Epsilon: 0.5306122448979587\n",
      "=========================== EPISODE  25 ===========================\n",
      "| Time  | State    | Action         | Reward | Next state | Done  |\n",
      "|-------|----------|----------------|--------|------------|-------|\n",
      "| 0     | Class 1  | Study          | -2.0   | Class 2    | False |\n",
      "| 1     | Class 2  | Fall asleep    |  0.0   | Asleep     | True  |\n",
      "Value function:\n",
      "{'Class 1': {'Study': 2.3871594868071533, 'Go on Facebook': -3.0870861725939114}, 'Class 2': {'Study': 5.497885916941727, 'Fall asleep': 0.0}, 'Class 3': {'Study': 9.450244186112, 'Go to the pub': 0.5234031055585281}, 'Facebook': {'Keep scrolling': -3.2301556459908016, 'Close Facebook': -1.8699840994117518}, 'Pub': {'Have a pint': 0.33688361060194105}, 'Pass': {'Fall asleep': 0.0}, 'Asleep': {}}\n",
      "Policy:\n",
      "{'Class 1': {'Study': 0.7448979591836737, 'Go on Facebook': 0.25510204081632626}, 'Class 2': {'Study': 0.7448979591836737, 'Fall asleep': 0.25510204081632626}, 'Class 3': {'Study': 0.7448979591836737, 'Go to the pub': 0.25510204081632626}, 'Facebook': {'Keep scrolling': 0.25510204081632626, 'Close Facebook': 0.7448979591836737}, 'Pub': {'Have a pint': 1.0}, 'Pass': {'Fall asleep': 1.0}, 'Asleep': {}}\n",
      "Epsilon: 0.5102040816326525\n",
      "=========================== EPISODE  26 ===========================\n",
      "| Time  | State    | Action         | Reward | Next state | Done  |\n",
      "|-------|----------|----------------|--------|------------|-------|\n",
      "| 0     | Class 1  | Study          | -2.0   | Class 2    | False |\n",
      "| 1     | Class 2  | Study          | -2.0   | Class 3    | False |\n",
      "| 2     | Class 3  | Study          | 10.0   | Pass       | False |\n",
      "| 3     | Pass     | Fall asleep    |  0.0   | Asleep     | True  |\n",
      "Value function:\n",
      "{'Class 1': {'Study': 2.4993470544952334, 'Go on Facebook': -3.0870861725939114}, 'Class 2': {'Study': 5.699352687053542, 'Fall asleep': 0.0}, 'Class 3': {'Study': 9.5601953488896, 'Go to the pub': 0.5234031055585281}, 'Facebook': {'Keep scrolling': -3.2301556459908016, 'Close Facebook': -1.8699840994117518}, 'Pub': {'Have a pint': 0.33688361060194105}, 'Pass': {'Fall asleep': 0.0}, 'Asleep': {}}\n",
      "Policy:\n",
      "{'Class 1': {'Study': 0.7551020408163268, 'Go on Facebook': 0.2448979591836732}, 'Class 2': {'Study': 0.7551020408163268, 'Fall asleep': 0.2448979591836732}, 'Class 3': {'Study': 0.7551020408163268, 'Go to the pub': 0.2448979591836732}, 'Facebook': {'Keep scrolling': 0.2448979591836732, 'Close Facebook': 0.7551020408163268}, 'Pub': {'Have a pint': 1.0}, 'Pass': {'Fall asleep': 1.0}, 'Asleep': {}}\n",
      "Epsilon: 0.4897959183673464\n",
      "=========================== EPISODE  27 ===========================\n",
      "| Time  | State    | Action         | Reward | Next state | Done  |\n",
      "|-------|----------|----------------|--------|------------|-------|\n",
      "| 0     | Class 1  | Study          | -2.0   | Class 2    | False |\n",
      "| 1     | Class 2  | Study          | -2.0   | Class 3    | False |\n",
      "| 2     | Class 3  | Go to the pub  |  1.0   | Pub        | False |\n",
      "| 3     | Pub      | Have a pint    | -2.0   | Class 3    | False |\n",
      "| 4     | Class 3  | Study          | 10.0   | Pass       | False |\n",
      "| 5     | Pass     | Fall asleep    |  0.0   | Asleep     | True  |\n",
      "Value function:\n",
      "{'Class 1': {'Study': 2.6253611272658244, 'Go on Facebook': -3.0870861725939114}, 'Class 2': {'Study': 5.880317312442962, 'Fall asleep': 0.0}, 'Class 3': {'Study': 9.64815627911168, 'Go to the pub': 0.6793615343551719}, 'Facebook': {'Keep scrolling': -3.2301556459908016, 'Close Facebook': -1.8699840994117518}, 'Pub': {'Have a pint': 1.590342051281681}, 'Pass': {'Fall asleep': 0.0}, 'Asleep': {}}\n",
      "Policy:\n",
      "{'Class 1': {'Study': 0.7653061224489799, 'Go on Facebook': 0.2346938775510201}, 'Class 2': {'Study': 0.7653061224489799, 'Fall asleep': 0.2346938775510201}, 'Class 3': {'Study': 0.7653061224489799, 'Go to the pub': 0.2346938775510201}, 'Facebook': {'Keep scrolling': 0.2346938775510201, 'Close Facebook': 0.7653061224489799}, 'Pub': {'Have a pint': 1.0}, 'Pass': {'Fall asleep': 1.0}, 'Asleep': {}}\n",
      "Epsilon: 0.4693877551020402\n",
      "=========================== EPISODE  28 ===========================\n",
      "| Time  | State    | Action         | Reward | Next state | Done  |\n",
      "|-------|----------|----------------|--------|------------|-------|\n",
      "| 0     | Class 1  | Study          | -2.0   | Class 2    | False |\n",
      "| 1     | Class 2  | Study          | -2.0   | Class 3    | False |\n",
      "| 2     | Class 3  | Go to the pub  |  1.0   | Pub        | False |\n",
      "| 3     | Pub      | Have a pint    | -2.0   | Class 3    | False |\n",
      "| 4     | Class 3  | Study          | 10.0   | Pass       | False |\n",
      "| 5     | Pass     | Fall asleep    |  0.0   | Asleep     | True  |\n",
      "Value function:\n",
      "{'Class 1': {'Study': 2.758746018052393, 'Go on Facebook': -3.0870861725939114}, 'Class 2': {'Study': 6.040921980194472, 'Fall asleep': 0.0}, 'Class 3': {'Study': 9.718525023289343, 'Go to the pub': 1.0297507967148403}, 'Facebook': {'Keep scrolling': -3.2301556459908016, 'Close Facebook': -1.8699840994117518}, 'Pub': {'Have a pint': 2.6089417712654472}, 'Pass': {'Fall asleep': 0.0}, 'Asleep': {}}\n",
      "Policy:\n",
      "{'Class 1': {'Study': 0.775510204081633, 'Go on Facebook': 0.22448979591836704}, 'Class 2': {'Study': 0.775510204081633, 'Fall asleep': 0.22448979591836704}, 'Class 3': {'Study': 0.775510204081633, 'Go to the pub': 0.22448979591836704}, 'Facebook': {'Keep scrolling': 0.22448979591836704, 'Close Facebook': 0.775510204081633}, 'Pub': {'Have a pint': 1.0}, 'Pass': {'Fall asleep': 1.0}, 'Asleep': {}}\n",
      "Epsilon: 0.4489795918367341\n",
      "=========================== EPISODE  29 ===========================\n",
      "| Time  | State    | Action         | Reward | Next state | Done  |\n",
      "|-------|----------|----------------|--------|------------|-------|\n",
      "| 0     | Class 1  | Study          | -2.0   | Class 2    | False |\n",
      "| 1     | Class 2  | Study          | -2.0   | Class 3    | False |\n",
      "| 2     | Class 3  | Study          | 10.0   | Pass       | False |\n",
      "| 3     | Pass     | Fall asleep    |  0.0   | Asleep     | True  |\n",
      "Value function:\n",
      "{'Class 1': {'Study': 2.8943627708769193, 'Go on Facebook': -3.0870861725939114}, 'Class 2': {'Study': 6.18207208834766, 'Fall asleep': 0.0}, 'Class 3': {'Study': 9.774820018631475, 'Go to the pub': 1.0297507967148403}, 'Facebook': {'Keep scrolling': -3.2301556459908016, 'Close Facebook': -1.8699840994117518}, 'Pub': {'Have a pint': 2.6089417712654472}, 'Pass': {'Fall asleep': 0.0}, 'Asleep': {}}\n",
      "Policy:\n",
      "{'Class 1': {'Study': 0.785714285714286, 'Go on Facebook': 0.21428571428571397}, 'Class 2': {'Study': 0.785714285714286, 'Fall asleep': 0.21428571428571397}, 'Class 3': {'Study': 0.785714285714286, 'Go to the pub': 0.21428571428571397}, 'Facebook': {'Keep scrolling': 0.21428571428571397, 'Close Facebook': 0.785714285714286}, 'Pub': {'Have a pint': 1.0}, 'Pass': {'Fall asleep': 1.0}, 'Asleep': {}}\n",
      "Epsilon: 0.42857142857142794\n",
      "=========================== EPISODE  30 ===========================\n",
      "| Time  | State    | Action         | Reward | Next state | Done  |\n",
      "|-------|----------|----------------|--------|------------|-------|\n",
      "| 0     | Class 1  | Study          | -2.0   | Class 2    | False |\n"
     ]
    },
    {
     "name": "stdout",
     "output_type": "stream",
     "text": [
      "| 1     | Class 2  | Study          | -2.0   | Class 3    | False |\n",
      "| 2     | Class 3  | Study          | 10.0   | Pass       | False |\n",
      "| 3     | Pass     | Fall asleep    |  0.0   | Asleep     | True  |\n",
      "Value function:\n",
      "{'Class 1': {'Study': 3.0282631926041144, 'Go on Facebook': -3.0870861725939114}, 'Class 2': {'Study': 6.305125274031793, 'Fall asleep': 0.0}, 'Class 3': {'Study': 9.81985601490518, 'Go to the pub': 1.0297507967148403}, 'Facebook': {'Keep scrolling': -3.2301556459908016, 'Close Facebook': -1.8699840994117518}, 'Pub': {'Have a pint': 2.6089417712654472}, 'Pass': {'Fall asleep': 0.0}, 'Asleep': {}}\n",
      "Policy:\n",
      "{'Class 1': {'Study': 0.7959183673469391, 'Go on Facebook': 0.2040816326530609}, 'Class 2': {'Study': 0.7959183673469391, 'Fall asleep': 0.2040816326530609}, 'Class 3': {'Study': 0.7959183673469391, 'Go to the pub': 0.2040816326530609}, 'Facebook': {'Keep scrolling': 0.2040816326530609, 'Close Facebook': 0.7959183673469391}, 'Pub': {'Have a pint': 1.0}, 'Pass': {'Fall asleep': 1.0}, 'Asleep': {}}\n",
      "Epsilon: 0.4081632653061218\n",
      "=========================== EPISODE  31 ===========================\n",
      "| Time  | State    | Action         | Reward | Next state | Done  |\n",
      "|-------|----------|----------------|--------|------------|-------|\n",
      "| 0     | Class 1  | Study          | -2.0   | Class 2    | False |\n",
      "| 1     | Class 2  | Study          | -2.0   | Class 3    | False |\n",
      "| 2     | Class 3  | Study          | 10.0   | Pass       | False |\n",
      "| 3     | Pass     | Fall asleep    |  0.0   | Asleep     | True  |\n",
      "Value function:\n",
      "{'Class 1': {'Study': 3.157533103409014, 'Go on Facebook': -3.0870861725939114}, 'Class 2': {'Study': 6.411674301908367, 'Fall asleep': 0.0}, 'Class 3': {'Study': 9.855884811924145, 'Go to the pub': 1.0297507967148403}, 'Facebook': {'Keep scrolling': -3.2301556459908016, 'Close Facebook': -1.8699840994117518}, 'Pub': {'Have a pint': 2.6089417712654472}, 'Pass': {'Fall asleep': 0.0}, 'Asleep': {}}\n",
      "Policy:\n",
      "{'Class 1': {'Study': 0.8061224489795922, 'Go on Facebook': 0.19387755102040782}, 'Class 2': {'Study': 0.8061224489795922, 'Fall asleep': 0.19387755102040782}, 'Class 3': {'Study': 0.8061224489795922, 'Go to the pub': 0.19387755102040782}, 'Facebook': {'Keep scrolling': 0.19387755102040782, 'Close Facebook': 0.8061224489795922}, 'Pub': {'Have a pint': 1.0}, 'Pass': {'Fall asleep': 1.0}, 'Asleep': {}}\n",
      "Epsilon: 0.38775510204081565\n",
      "=========================== EPISODE  32 ===========================\n",
      "| Time  | State    | Action         | Reward | Next state | Done  |\n",
      "|-------|----------|----------------|--------|------------|-------|\n",
      "| 0     | Class 1  | Go on Facebook | -1.0   | Facebook   | False |\n",
      "| 1     | Facebook | Close Facebook | -2.0   | Class 1    | False |\n",
      "| 2     | Class 1  | Study          | -2.0   | Class 2    | False |\n",
      "| 3     | Class 2  | Fall asleep    |  0.0   | Asleep     | True  |\n",
      "Value function:\n",
      "{'Class 1': {'Study': 3.2801278570707173, 'Go on Facebook': -3.0062660759692443}, 'Class 2': {'Study': 6.411674301908367, 'Fall asleep': 0.0}, 'Class 3': {'Study': 9.855884811924145, 'Go to the pub': 1.0297507967148403}, 'Facebook': {'Keep scrolling': -3.2301556459908016, 'Close Facebook': -1.3276313209157788}, 'Pub': {'Have a pint': 2.6089417712654472}, 'Pass': {'Fall asleep': 0.0}, 'Asleep': {}}\n",
      "Policy:\n",
      "{'Class 1': {'Study': 0.8163265306122452, 'Go on Facebook': 0.18367346938775475}, 'Class 2': {'Study': 0.8163265306122452, 'Fall asleep': 0.18367346938775475}, 'Class 3': {'Study': 0.8163265306122452, 'Go to the pub': 0.18367346938775475}, 'Facebook': {'Keep scrolling': 0.18367346938775475, 'Close Facebook': 0.8163265306122452}, 'Pub': {'Have a pint': 1.0}, 'Pass': {'Fall asleep': 1.0}, 'Asleep': {}}\n",
      "Epsilon: 0.3673469387755095\n",
      "=========================== EPISODE  33 ===========================\n",
      "| Time  | State    | Action         | Reward | Next state | Done  |\n",
      "|-------|----------|----------------|--------|------------|-------|\n",
      "| 0     | Class 1  | Go on Facebook | -1.0   | Facebook   | False |\n",
      "| 1     | Facebook | Close Facebook | -2.0   | Class 1    | False |\n",
      "| 2     | Class 1  | Study          | -2.0   | Class 2    | False |\n",
      "| 3     | Class 2  | Study          | -2.0   | Class 3    | False |\n",
      "| 4     | Class 3  | Study          | 10.0   | Pass       | False |\n",
      "| 5     | Pass     | Fall asleep    |  0.0   | Asleep     | True  |\n",
      "Value function:\n",
      "{'Class 1': {'Study': 3.37820366000008, 'Go on Facebook': -2.843986498540236}, 'Class 2': {'Study': 6.50339870767304, 'Fall asleep': 0.0}, 'Class 3': {'Study': 9.884707849539316, 'Go to the pub': 1.0297507967148403}, 'Facebook': {'Keep scrolling': -3.2301556459908016, 'Close Facebook': -0.8716820424598939}, 'Pub': {'Have a pint': 2.6089417712654472}, 'Pass': {'Fall asleep': 0.0}, 'Asleep': {}}\n",
      "Policy:\n",
      "{'Class 1': {'Study': 0.8265306122448983, 'Go on Facebook': 0.17346938775510168}, 'Class 2': {'Study': 0.8265306122448983, 'Fall asleep': 0.17346938775510168}, 'Class 3': {'Study': 0.8265306122448983, 'Go to the pub': 0.17346938775510168}, 'Facebook': {'Keep scrolling': 0.17346938775510168, 'Close Facebook': 0.8265306122448983}, 'Pub': {'Have a pint': 1.0}, 'Pass': {'Fall asleep': 1.0}, 'Asleep': {}}\n",
      "Epsilon: 0.34693877551020336\n",
      "=========================== EPISODE  34 ===========================\n",
      "| Time  | State    | Action         | Reward | Next state | Done  |\n",
      "|-------|----------|----------------|--------|------------|-------|\n",
      "| 0     | Class 1  | Study          | -2.0   | Class 2    | False |\n",
      "| 1     | Class 2  | Study          | -2.0   | Class 3    | False |\n",
      "| 2     | Class 3  | Study          | 10.0   | Pass       | False |\n",
      "| 3     | Pass     | Fall asleep    |  0.0   | Asleep     | True  |\n",
      "Value function:\n",
      "{'Class 1': {'Study': 3.473174695381211, 'Go on Facebook': -2.843986498540236}, 'Class 2': {'Study': 6.581966379055509, 'Fall asleep': 0.0}, 'Class 3': {'Study': 9.907766279631453, 'Go to the pub': 1.0297507967148403}, 'Facebook': {'Keep scrolling': -3.2301556459908016, 'Close Facebook': -0.8716820424598939}, 'Pub': {'Have a pint': 2.6089417712654472}, 'Pass': {'Fall asleep': 0.0}, 'Asleep': {}}\n",
      "Policy:\n",
      "{'Class 1': {'Study': 0.8367346938775514, 'Go on Facebook': 0.1632653061224486}, 'Class 2': {'Study': 0.8367346938775514, 'Fall asleep': 0.1632653061224486}, 'Class 3': {'Study': 0.8367346938775514, 'Go to the pub': 0.1632653061224486}, 'Facebook': {'Keep scrolling': 0.1632653061224486, 'Close Facebook': 0.8367346938775514}, 'Pub': {'Have a pint': 1.0}, 'Pass': {'Fall asleep': 1.0}, 'Asleep': {}}\n",
      "Epsilon: 0.3265306122448972\n",
      "=========================== EPISODE  35 ===========================\n",
      "| Time  | State    | Action         | Reward | Next state | Done  |\n",
      "|-------|----------|----------------|--------|------------|-------|\n",
      "| 0     | Class 1  | Study          | -2.0   | Class 2    | False |\n",
      "| 1     | Class 2  | Study          | -2.0   | Class 3    | False |\n",
      "| 2     | Class 3  | Study          | 10.0   | Pass       | False |\n",
      "| 3     | Pass     | Fall asleep    |  0.0   | Asleep     | True  |\n",
      "Value function:\n",
      "{'Class 1': {'Study': 3.5632937045349604, 'Go on Facebook': -2.843986498540236}, 'Class 2': {'Study': 6.648971033578069, 'Fall asleep': 0.0}, 'Class 3': {'Study': 9.926213023705163, 'Go to the pub': 1.0297507967148403}, 'Facebook': {'Keep scrolling': -3.2301556459908016, 'Close Facebook': -0.8716820424598939}, 'Pub': {'Have a pint': 2.6089417712654472}, 'Pass': {'Fall asleep': 0.0}, 'Asleep': {}}\n",
      "Policy:\n",
      "{'Class 1': {'Study': 0.8469387755102045, 'Go on Facebook': 0.15306122448979553}, 'Class 2': {'Study': 0.8469387755102045, 'Fall asleep': 0.15306122448979553}, 'Class 3': {'Study': 0.8469387755102045, 'Go to the pub': 0.15306122448979553}, 'Facebook': {'Keep scrolling': 0.15306122448979553, 'Close Facebook': 0.8469387755102045}, 'Pub': {'Have a pint': 1.0}, 'Pass': {'Fall asleep': 1.0}, 'Asleep': {}}\n",
      "Epsilon: 0.30612244897959107\n",
      "=========================== EPISODE  36 ===========================\n",
      "| Time  | State    | Action         | Reward | Next state | Done  |\n",
      "|-------|----------|----------------|--------|------------|-------|\n",
      "| 0     | Class 1  | Study          | -2.0   | Class 2    | False |\n",
      "| 1     | Class 2  | Study          | -2.0   | Class 3    | False |\n",
      "| 2     | Class 3  | Study          | 10.0   | Pass       | False |\n",
      "| 3     | Pass     | Fall asleep    |  0.0   | Asleep     | True  |\n",
      "Value function:\n",
      "{'Class 1': {'Study': 3.647449749672021, 'Go on Facebook': -2.843986498540236}, 'Class 2': {'Study': 6.705895171129384, 'Fall asleep': 0.0}, 'Class 3': {'Study': 9.940970418964131, 'Go to the pub': 1.0297507967148403}, 'Facebook': {'Keep scrolling': -3.2301556459908016, 'Close Facebook': -0.8716820424598939}, 'Pub': {'Have a pint': 2.6089417712654472}, 'Pass': {'Fall asleep': 0.0}, 'Asleep': {}}\n",
      "Policy:\n",
      "{'Class 1': {'Study': 0.8571428571428575, 'Go on Facebook': 0.14285714285714246}, 'Class 2': {'Study': 0.8571428571428575, 'Fall asleep': 0.14285714285714246}, 'Class 3': {'Study': 0.8571428571428575, 'Go to the pub': 0.14285714285714246}, 'Facebook': {'Keep scrolling': 0.14285714285714246, 'Close Facebook': 0.8571428571428575}, 'Pub': {'Have a pint': 1.0}, 'Pass': {'Fall asleep': 1.0}, 'Asleep': {}}\n",
      "Epsilon: 0.2857142857142849\n",
      "=========================== EPISODE  37 ===========================\n",
      "| Time  | State    | Action         | Reward | Next state | Done  |\n",
      "|-------|----------|----------------|--------|------------|-------|\n",
      "| 0     | Class 1  | Study          | -2.0   | Class 2    | False |\n",
      "| 1     | Class 2  | Study          | -2.0   | Class 3    | False |\n",
      "| 2     | Class 3  | Study          | 10.0   | Pass       | False |\n",
      "| 3     | Pass     | Fall asleep    |  0.0   | Asleep     | True  |\n",
      "Value function:\n",
      "{'Class 1': {'Study': 3.725020930540906, 'Go on Facebook': -2.843986498540236}, 'Class 2': {'Study': 6.754090812317051, 'Fall asleep': 0.0}, 'Class 3': {'Study': 9.952776335171304, 'Go to the pub': 1.0297507967148403}, 'Facebook': {'Keep scrolling': -3.2301556459908016, 'Close Facebook': -0.8716820424598939}, 'Pub': {'Have a pint': 2.6089417712654472}, 'Pass': {'Fall asleep': 0.0}, 'Asleep': {}}\n",
      "Policy:\n",
      "{'Class 1': {'Study': 0.8673469387755106, 'Go on Facebook': 0.1326530612244894}, 'Class 2': {'Study': 0.8673469387755106, 'Fall asleep': 0.1326530612244894}, 'Class 3': {'Study': 0.8673469387755106, 'Go to the pub': 0.1326530612244894}, 'Facebook': {'Keep scrolling': 0.1326530612244894, 'Close Facebook': 0.8673469387755106}, 'Pub': {'Have a pint': 1.0}, 'Pass': {'Fall asleep': 1.0}, 'Asleep': {}}\n",
      "Epsilon: 0.2653061224489788\n",
      "=========================== EPISODE  38 ===========================\n",
      "| Time  | State    | Action         | Reward | Next state | Done  |\n",
      "|-------|----------|----------------|--------|------------|-------|\n",
      "| 0     | Class 1  | Study          | -2.0   | Class 2    | False |\n",
      "| 1     | Class 2  | Study          | -2.0   | Class 3    | False |\n",
      "| 2     | Class 3  | Study          | 10.0   | Pass       | False |\n",
      "| 3     | Pass     | Fall asleep    |  0.0   | Asleep     | True  |\n",
      "Value function:\n",
      "{'Class 1': {'Study': 3.795753090649794, 'Go on Facebook': -2.843986498540236}, 'Class 2': {'Study': 6.794772390184475, 'Fall asleep': 0.0}, 'Class 3': {'Study': 9.962221068137044, 'Go to the pub': 1.0297507967148403}, 'Facebook': {'Keep scrolling': -3.2301556459908016, 'Close Facebook': -0.8716820424598939}, 'Pub': {'Have a pint': 2.6089417712654472}, 'Pass': {'Fall asleep': 0.0}, 'Asleep': {}}\n",
      "Policy:\n",
      "{'Class 1': {'Study': 0.8775510204081637, 'Go on Facebook': 0.12244897959183633}, 'Class 2': {'Study': 0.8775510204081637, 'Fall asleep': 0.12244897959183633}, 'Class 3': {'Study': 0.8775510204081637, 'Go to the pub': 0.12244897959183633}, 'Facebook': {'Keep scrolling': 0.12244897959183633, 'Close Facebook': 0.8775510204081637}, 'Pub': {'Have a pint': 1.0}, 'Pass': {'Fall asleep': 1.0}, 'Asleep': {}}\n",
      "Epsilon: 0.24489795918367266\n",
      "=========================== EPISODE  39 ===========================\n",
      "| Time  | State    | Action         | Reward | Next state | Done  |\n",
      "|-------|----------|----------------|--------|------------|-------|\n",
      "| 0     | Class 1  | Study          | -2.0   | Class 2    | False |\n",
      "| 1     | Class 2  | Study          | -2.0   | Class 3    | False |\n",
      "| 2     | Class 3  | Study          | 10.0   | Pass       | False |\n",
      "| 3     | Pass     | Fall asleep    |  0.0   | Asleep     | True  |\n",
      "Value function:\n",
      "{'Class 1': {'Study': 3.8596615027530405, 'Go on Facebook': -2.843986498540236}, 'Class 2': {'Study': 6.829017704412248, 'Fall asleep': 0.0}, 'Class 3': {'Study': 9.969776854509636, 'Go to the pub': 1.0297507967148403}, 'Facebook': {'Keep scrolling': -3.2301556459908016, 'Close Facebook': -0.8716820424598939}, 'Pub': {'Have a pint': 2.6089417712654472}, 'Pass': {'Fall asleep': 0.0}, 'Asleep': {}}\n",
      "Policy:\n",
      "{'Class 1': {'Study': 0.8877551020408168, 'Go on Facebook': 0.11224489795918327}, 'Class 2': {'Study': 0.8877551020408168, 'Fall asleep': 0.11224489795918327}, 'Class 3': {'Study': 0.8877551020408168, 'Go to the pub': 0.11224489795918327}, 'Facebook': {'Keep scrolling': 0.11224489795918327, 'Close Facebook': 0.8877551020408168}, 'Pub': {'Have a pint': 1.0}, 'Pass': {'Fall asleep': 1.0}, 'Asleep': {}}\n",
      "Epsilon: 0.22448979591836654\n",
      "=========================== EPISODE  40 ===========================\n",
      "| Time  | State    | Action         | Reward | Next state | Done  |\n",
      "|-------|----------|----------------|--------|------------|-------|\n",
      "| 0     | Class 1  | Study          | -2.0   | Class 2    | False |\n",
      "| 1     | Class 2  | Study          | -2.0   | Class 3    | False |\n",
      "| 2     | Class 3  | Study          | 10.0   | Pass       | False |\n",
      "| 3     | Pass     | Fall asleep    |  0.0   | Asleep     | True  |\n",
      "Value function:\n",
      "{'Class 1': {'Study': 3.916952388996637, 'Go on Facebook': -2.843986498540236}, 'Class 2': {'Study': 6.857773997341533, 'Fall asleep': 0.0}, 'Class 3': {'Study': 9.975821483607708, 'Go to the pub': 1.0297507967148403}, 'Facebook': {'Keep scrolling': -3.2301556459908016, 'Close Facebook': -0.8716820424598939}, 'Pub': {'Have a pint': 2.6089417712654472}, 'Pass': {'Fall asleep': 0.0}, 'Asleep': {}}\n",
      "Policy:\n",
      "{'Class 1': {'Study': 0.8979591836734697, 'Go on Facebook': 0.10204081632653021}, 'Class 2': {'Study': 0.8979591836734697, 'Fall asleep': 0.10204081632653021}, 'Class 3': {'Study': 0.8979591836734697, 'Go to the pub': 0.10204081632653021}, 'Facebook': {'Keep scrolling': 0.10204081632653021, 'Close Facebook': 0.8979591836734697}, 'Pub': {'Have a pint': 1.0}, 'Pass': {'Fall asleep': 1.0}, 'Asleep': {}}\n",
      "Epsilon: 0.20408163265306042\n",
      "=========================== EPISODE  41 ===========================\n",
      "| Time  | State    | Action         | Reward | Next state | Done  |\n",
      "|-------|----------|----------------|--------|------------|-------|\n",
      "| 0     | Class 1  | Study          | -2.0   | Class 2    | False |\n",
      "| 1     | Class 2  | Study          | -2.0   | Class 3    | False |\n",
      "| 2     | Class 3  | Study          | 10.0   | Pass       | False |\n",
      "| 3     | Pass     | Fall asleep    |  0.0   | Asleep     | True  |\n",
      "Value function:\n",
      "{'Class 1': {'Study': 3.9679612307187853, 'Go on Facebook': -2.843986498540236}, 'Class 2': {'Study': 6.881867064922614, 'Fall asleep': 0.0}, 'Class 3': {'Study': 9.980657186886166, 'Go to the pub': 1.0297507967148403}, 'Facebook': {'Keep scrolling': -3.2301556459908016, 'Close Facebook': -0.8716820424598939}, 'Pub': {'Have a pint': 2.6089417712654472}, 'Pass': {'Fall asleep': 0.0}, 'Asleep': {}}\n",
      "Policy:\n",
      "{'Class 1': {'Study': 0.9081632653061229, 'Go on Facebook': 0.09183673469387715}, 'Class 2': {'Study': 0.9081632653061229, 'Fall asleep': 0.09183673469387715}, 'Class 3': {'Study': 0.9081632653061229, 'Go to the pub': 0.09183673469387715}, 'Facebook': {'Keep scrolling': 0.09183673469387715, 'Close Facebook': 0.9081632653061229}, 'Pub': {'Have a pint': 1.0}, 'Pass': {'Fall asleep': 1.0}, 'Asleep': {}}\n",
      "Epsilon: 0.1836734693877543\n",
      "=========================== EPISODE  42 ===========================\n",
      "| Time  | State    | Action         | Reward | Next state | Done  |\n",
      "|-------|----------|----------------|--------|------------|-------|\n",
      "| 0     | Class 1  | Study          | -2.0   | Class 2    | False |\n",
      "| 1     | Class 2  | Study          | -2.0   | Class 3    | False |\n",
      "| 2     | Class 3  | Study          | 10.0   | Pass       | False |\n",
      "| 3     | Pass     | Fall asleep    |  0.0   | Asleep     | True  |\n",
      "Value function:\n",
      "{'Class 1': {'Study': 4.013105056261098, 'Go on Facebook': -2.843986498540236}, 'Class 2': {'Study': 6.902011945577601, 'Fall asleep': 0.0}, 'Class 3': {'Study': 9.984525749508933, 'Go to the pub': 1.0297507967148403}, 'Facebook': {'Keep scrolling': -3.2301556459908016, 'Close Facebook': -0.8716820424598939}, 'Pub': {'Have a pint': 2.6089417712654472}, 'Pass': {'Fall asleep': 0.0}, 'Asleep': {}}\n",
      "Policy:\n",
      "{'Class 1': {'Study': 0.918367346938776, 'Go on Facebook': 0.0816326530612241}, 'Class 2': {'Study': 0.918367346938776, 'Fall asleep': 0.0816326530612241}, 'Class 3': {'Study': 0.918367346938776, 'Go to the pub': 0.0816326530612241}, 'Facebook': {'Keep scrolling': 0.0816326530612241, 'Close Facebook': 0.918367346938776}, 'Pub': {'Have a pint': 1.0}, 'Pass': {'Fall asleep': 1.0}, 'Asleep': {}}\n",
      "Epsilon: 0.1632653061224482\n",
      "=========================== EPISODE  43 ===========================\n",
      "| Time  | State    | Action         | Reward | Next state | Done  |\n",
      "|-------|----------|----------------|--------|------------|-------|\n",
      "| 0     | Class 1  | Study          | -2.0   | Class 2    | False |\n",
      "| 1     | Class 2  | Study          | -2.0   | Class 3    | False |\n",
      "| 2     | Class 3  | Study          | 10.0   | Pass       | False |\n",
      "| 3     | Pass     | Fall asleep    |  0.0   | Asleep     | True  |\n",
      "Value function:\n",
      "{'Class 1': {'Study': 4.0528461952128465, 'Go on Facebook': -2.843986498540236}, 'Class 2': {'Study': 6.918824191373689, 'Fall asleep': 0.0}, 'Class 3': {'Study': 9.987620599607146, 'Go to the pub': 1.0297507967148403}, 'Facebook': {'Keep scrolling': -3.2301556459908016, 'Close Facebook': -0.8716820424598939}, 'Pub': {'Have a pint': 2.6089417712654472}, 'Pass': {'Fall asleep': 0.0}, 'Asleep': {}}\n",
      "Policy:\n",
      "{'Class 1': {'Study': 0.9285714285714289, 'Go on Facebook': 0.07142857142857104}, 'Class 2': {'Study': 0.9285714285714289, 'Fall asleep': 0.07142857142857104}, 'Class 3': {'Study': 0.9285714285714289, 'Go to the pub': 0.07142857142857104}, 'Facebook': {'Keep scrolling': 0.07142857142857104, 'Close Facebook': 0.9285714285714289}, 'Pub': {'Have a pint': 1.0}, 'Pass': {'Fall asleep': 1.0}, 'Asleep': {}}\n",
      "Epsilon: 0.14285714285714207\n",
      "=========================== EPISODE  44 ===========================\n",
      "| Time  | State    | Action         | Reward | Next state | Done  |\n",
      "|-------|----------|----------------|--------|------------|-------|\n",
      "| 0     | Class 1  | Study          | -2.0   | Class 2    | False |\n",
      "| 1     | Class 2  | Study          | -2.0   | Class 3    | False |\n",
      "| 2     | Class 3  | Study          | 10.0   | Pass       | False |\n",
      "| 3     | Pass     | Fall asleep    |  0.0   | Asleep     | True  |\n",
      "Value function:\n",
      "{'Class 1': {'Study': 4.087665310617541, 'Go on Facebook': -2.843986498540236}, 'Class 2': {'Study': 6.932831061028238, 'Fall asleep': 0.0}, 'Class 3': {'Study': 9.990096479685716, 'Go to the pub': 1.0297507967148403}, 'Facebook': {'Keep scrolling': -3.2301556459908016, 'Close Facebook': -0.8716820424598939}, 'Pub': {'Have a pint': 2.6089417712654472}, 'Pass': {'Fall asleep': 0.0}, 'Asleep': {}}\n",
      "Policy:\n",
      "{'Class 1': {'Study': 0.938775510204082, 'Go on Facebook': 0.06122448979591798}, 'Class 2': {'Study': 0.938775510204082, 'Fall asleep': 0.06122448979591798}, 'Class 3': {'Study': 0.938775510204082, 'Go to the pub': 0.06122448979591798}, 'Facebook': {'Keep scrolling': 0.06122448979591798, 'Close Facebook': 0.938775510204082}, 'Pub': {'Have a pint': 1.0}, 'Pass': {'Fall asleep': 1.0}, 'Asleep': {}}\n",
      "Epsilon: 0.12244897959183595\n",
      "=========================== EPISODE  45 ===========================\n",
      "| Time  | State    | Action         | Reward | Next state | Done  |\n",
      "|-------|----------|----------------|--------|------------|-------|\n",
      "| 0     | Class 1  | Study          | -2.0   | Class 2    | False |\n",
      "| 1     | Class 2  | Study          | -2.0   | Class 3    | False |\n",
      "| 2     | Class 3  | Study          | 10.0   | Pass       | False |\n",
      "| 3     | Pass     | Fall asleep    |  0.0   | Asleep     | True  |\n",
      "Value function:\n",
      "{'Class 1': {'Study': 4.118041839479115, 'Go on Facebook': -2.843986498540236}, 'Class 2': {'Study': 6.944482215166019, 'Fall asleep': 0.0}, 'Class 3': {'Study': 9.992077183748574, 'Go to the pub': 1.0297507967148403}, 'Facebook': {'Keep scrolling': -3.2301556459908016, 'Close Facebook': -0.8716820424598939}, 'Pub': {'Have a pint': 2.6089417712654472}, 'Pass': {'Fall asleep': 0.0}, 'Asleep': {}}\n",
      "Policy:\n",
      "{'Class 1': {'Study': 0.9489795918367351, 'Go on Facebook': 0.05102040816326492}, 'Class 2': {'Study': 0.9489795918367351, 'Fall asleep': 0.05102040816326492}, 'Class 3': {'Study': 0.9489795918367351, 'Go to the pub': 0.05102040816326492}, 'Facebook': {'Keep scrolling': 0.05102040816326492, 'Close Facebook': 0.9489795918367351}, 'Pub': {'Have a pint': 1.0}, 'Pass': {'Fall asleep': 1.0}, 'Asleep': {}}\n",
      "Epsilon: 0.10204081632652984\n",
      "=========================== EPISODE  46 ===========================\n",
      "| Time  | State    | Action         | Reward | Next state | Done  |\n",
      "|-------|----------|----------------|--------|------------|-------|\n",
      "| 0     | Class 1  | Study          | -2.0   | Class 2    | False |\n",
      "| 1     | Class 2  | Study          | -2.0   | Class 3    | False |\n",
      "| 2     | Class 3  | Study          | 10.0   | Pass       | False |\n",
      "| 3     | Pass     | Fall asleep    |  0.0   | Asleep     | True  |\n",
      "Value function:\n",
      "{'Class 1': {'Study': 4.144440270313176, 'Go on Facebook': -2.843986498540236}, 'Class 2': {'Study': 6.954159665207559, 'Fall asleep': 0.0}, 'Class 3': {'Study': 9.993661746998859, 'Go to the pub': 1.0297507967148403}, 'Facebook': {'Keep scrolling': -3.2301556459908016, 'Close Facebook': -0.8716820424598939}, 'Pub': {'Have a pint': 2.6089417712654472}, 'Pass': {'Fall asleep': 0.0}, 'Asleep': {}}\n",
      "Policy:\n",
      "{'Class 1': {'Study': 0.9591836734693882, 'Go on Facebook': 0.04081632653061186}, 'Class 2': {'Study': 0.9591836734693882, 'Fall asleep': 0.04081632653061186}, 'Class 3': {'Study': 0.9591836734693882, 'Go to the pub': 0.04081632653061186}, 'Facebook': {'Keep scrolling': 0.04081632653061186, 'Close Facebook': 0.9591836734693882}, 'Pub': {'Have a pint': 1.0}, 'Pass': {'Fall asleep': 1.0}, 'Asleep': {}}\n",
      "Epsilon: 0.08163265306122372\n",
      "=========================== EPISODE  47 ===========================\n",
      "| Time  | State    | Action         | Reward | Next state | Done  |\n",
      "|-------|----------|----------------|--------|------------|-------|\n",
      "| 0     | Class 1  | Study          | -2.0   | Class 2    | False |\n",
      "| 1     | Class 2  | Study          | -2.0   | Class 3    | False |\n",
      "| 2     | Class 3  | Study          | 10.0   | Pass       | False |\n",
      "| 3     | Pass     | Fall asleep    |  0.0   | Asleep     | True  |\n",
      "Value function:\n",
      "{'Class 1': {'Study': 4.167300955987901, 'Go on Facebook': -2.843986498540236}, 'Class 2': {'Study': 6.962186846625842, 'Fall asleep': 0.0}, 'Class 3': {'Study': 9.994929397599087, 'Go to the pub': 1.0297507967148403}, 'Facebook': {'Keep scrolling': -3.2301556459908016, 'Close Facebook': -0.8716820424598939}, 'Pub': {'Have a pint': 2.6089417712654472}, 'Pass': {'Fall asleep': 0.0}, 'Asleep': {}}\n",
      "Policy:\n",
      "{'Class 1': {'Study': 0.9693877551020412, 'Go on Facebook': 0.0306122448979588}, 'Class 2': {'Study': 0.9693877551020412, 'Fall asleep': 0.0306122448979588}, 'Class 3': {'Study': 0.9693877551020412, 'Go to the pub': 0.0306122448979588}, 'Facebook': {'Keep scrolling': 0.0306122448979588, 'Close Facebook': 0.9693877551020412}, 'Pub': {'Have a pint': 1.0}, 'Pass': {'Fall asleep': 1.0}, 'Asleep': {}}\n",
      "Epsilon: 0.0612244897959176\n",
      "=========================== EPISODE  48 ===========================\n",
      "| Time  | State    | Action         | Reward | Next state | Done  |\n",
      "|-------|----------|----------------|--------|------------|-------|\n",
      "| 0     | Class 1  | Study          | -2.0   | Class 2    | False |\n",
      "| 1     | Class 2  | Study          | -2.0   | Class 3    | False |\n",
      "| 2     | Class 3  | Study          | 10.0   | Pass       | False |\n",
      "| 3     | Pass     | Fall asleep    |  0.0   | Asleep     | True  |\n",
      "Value function:\n",
      "{'Class 1': {'Study': 4.187034397182972, 'Go on Facebook': -2.843986498540236}, 'Class 2': {'Study': 6.96883676886851, 'Fall asleep': 0.0}, 'Class 3': {'Study': 9.995943518079269, 'Go to the pub': 1.0297507967148403}, 'Facebook': {'Keep scrolling': -3.2301556459908016, 'Close Facebook': -0.8716820424598939}, 'Pub': {'Have a pint': 2.6089417712654472}, 'Pass': {'Fall asleep': 0.0}, 'Asleep': {}}\n",
      "Policy:\n",
      "{'Class 1': {'Study': 0.9795918367346942, 'Go on Facebook': 0.020408163265305743}, 'Class 2': {'Study': 0.9795918367346942, 'Fall asleep': 0.020408163265305743}, 'Class 3': {'Study': 0.9795918367346942, 'Go to the pub': 0.020408163265305743}, 'Facebook': {'Keep scrolling': 0.020408163265305743, 'Close Facebook': 0.9795918367346942}, 'Pub': {'Have a pint': 1.0}, 'Pass': {'Fall asleep': 1.0}, 'Asleep': {}}\n",
      "Epsilon: 0.040816326530611485\n",
      "=========================== EPISODE  49 ===========================\n",
      "| Time  | State    | Action         | Reward | Next state | Done  |\n",
      "|-------|----------|----------------|--------|------------|-------|\n",
      "| 0     | Class 1  | Study          | -2.0   | Class 2    | False |\n",
      "| 1     | Class 2  | Study          | -2.0   | Class 3    | False |\n",
      "| 2     | Class 3  | Study          | 10.0   | Pass       | False |\n",
      "| 3     | Pass     | Fall asleep    |  0.0   | Asleep     | True  |\n",
      "Value function:\n",
      "{'Class 1': {'Study': 4.20401813614271, 'Go on Facebook': -2.843986498540236}, 'Class 2': {'Study': 6.974339248349076, 'Fall asleep': 0.0}, 'Class 3': {'Study': 9.996754814463415, 'Go to the pub': 1.0297507967148403}, 'Facebook': {'Keep scrolling': -3.2301556459908016, 'Close Facebook': -0.8716820424598939}, 'Pub': {'Have a pint': 2.6089417712654472}, 'Pass': {'Fall asleep': 0.0}, 'Asleep': {}}\n",
      "Policy:\n",
      "{'Class 1': {'Study': 0.9897959183673473, 'Go on Facebook': 0.010204081632652682}, 'Class 2': {'Study': 0.9897959183673473, 'Fall asleep': 0.010204081632652682}, 'Class 3': {'Study': 0.9897959183673473, 'Go to the pub': 0.010204081632652682}, 'Facebook': {'Keep scrolling': 0.010204081632652682, 'Close Facebook': 0.9897959183673473}, 'Pub': {'Have a pint': 1.0}, 'Pass': {'Fall asleep': 1.0}, 'Asleep': {}}\n",
      "Epsilon: 0.020408163265305364\n",
      "=========================== EPISODE  50 ===========================\n",
      "| Time  | State    | Action         | Reward | Next state | Done  |\n",
      "|-------|----------|----------------|--------|------------|-------|\n",
      "| 0     | Class 1  | Study          | -2.0   | Class 2    | False |\n",
      "| 1     | Class 2  | Study          | -2.0   | Class 3    | False |\n",
      "| 2     | Class 3  | Study          | 10.0   | Pass       | False |\n",
      "| 3     | Pass     | Fall asleep    |  0.0   | Asleep     | True  |\n",
      "Value function:\n",
      "{'Class 1': {'Study': 4.2185955736170015, 'Go on Facebook': -2.843986498540236}, 'Class 2': {'Study': 6.978887265282676, 'Fall asleep': 0.0}, 'Class 3': {'Study': 9.997403851570732, 'Go to the pub': 1.0297507967148403}, 'Facebook': {'Keep scrolling': -3.2301556459908016, 'Close Facebook': -0.8716820424598939}, 'Pub': {'Have a pint': 2.6089417712654472}, 'Pass': {'Fall asleep': 0.0}, 'Asleep': {}}\n",
      "Policy:\n",
      "{'Class 1': {'Study': 1.0, 'Go on Facebook': 0.0}, 'Class 2': {'Study': 1.0, 'Fall asleep': 0.0}, 'Class 3': {'Study': 1.0, 'Go to the pub': 0.0}, 'Facebook': {'Keep scrolling': 0.0, 'Close Facebook': 1.0}, 'Pub': {'Have a pint': 1.0}, 'Pass': {'Fall asleep': 1.0}, 'Asleep': {}}\n",
      "Epsilon: 0\n"
     ]
    }
   ],
   "source": [
    "NUM_EPS = 50\n",
    "mdp.ep = 0\n",
    "while mdp.ep < NUM_EPS:\n",
    "    state = mdp.reset()\n",
    "    done = False\n",
    "    while not done:\n",
    "        action = agent.act(state)\n",
    "        next_state, reward, done, info = mdp.step(action)\n",
    "        agent.learn(state, action, reward, next_state, done)\n",
    "        state = next_state\n",
    "\n",
    "    print(\"Value function:\")\n",
    "    print(agent.Q)\n",
    "    print(\"Policy:\")\n",
    "    print(agent.policy)\n",
    "    print(\"Epsilon:\", agent.epsilon)\n",
    "    \n",
    "    agent.epsilon = max(agent.epsilon - 1 / (NUM_EPS-1), 0)"
   ]
  },
  {
   "cell_type": "markdown",
   "id": "c7b688ab",
   "metadata": {},
   "source": [
    "Try with $\\gamma=0$ and different $\\epsilon$ values"
   ]
  },
  {
   "cell_type": "markdown",
   "id": "6e9a4d06",
   "metadata": {},
   "source": [
    "# 4 | Deep RL\n"
   ]
  },
  {
   "cell_type": "markdown",
   "id": "72902834",
   "metadata": {},
   "source": [
    "So far, we've tabularised the state-action space. Whilst useful for explaining the fundamental concepts that underpin RL, the real world state-action spaces are generally continuous and thus impossible to tabularise. To combat this, function approximators are used instead. In the past these included x, but more recently, deep neural networks have been used giving rise to the field of Deep Reinforcement Learning.\n",
    "\n",
    "The seminal Deep RL algorithm is Deep Q Learning which uses neural networks to represent the $Q$ function. The network takes the current obervation $o_t$ as input and predicts the value of each action. The agent's policy is $\\epsilon$-greedy as before i.e. it takes the value-maximising action with probability $1 - \\epsilon$. Deep Q learning \n",
    "\n",
    "Below, we run 500 episodes of the canonical Cartpole task using Deep Q learning. The agent's goal is to balance the pole in the upright position for as long as possible starting from an initially random position."
   ]
  },
  {
   "cell_type": "code",
   "execution_count": null,
   "id": "9e6e0b32",
   "metadata": {},
   "outputs": [],
   "source": [
    "import gym\n",
    "from dqn_agent import Agent\n",
    "import numpy as np"
   ]
  },
  {
   "cell_type": "code",
   "execution_count": null,
   "id": "0c0854f8",
   "metadata": {},
   "outputs": [],
   "source": [
    "env = gym.make('CartPole-v1')\n",
    "agent = Agent(gamma=0.99, epsilon=0.9, lr=0.0001, n_actions=env.action_space.n, input_dims=[env.observation_space.shape[0]],\n",
    "              mem_size=50000, batch_size=128,  eps_dec=1e-3, eps_min=0.05, replace=1000,\n",
    "              env_name='cartpole', chkpt_dir='tmp/dqn')\n",
    "\n",
    "best_score = -np.inf\n",
    "episodes = 500\n",
    "scores, avg_score, eps_history = [], [], []\n",
    "\n",
    "for i in range(episodes):\n",
    "    score = 0\n",
    "    done = False\n",
    "    observation = env.reset()\n",
    "    env.render()\n",
    "    while not done:\n",
    "        action = agent.choose_action(observation)\n",
    "        observation_, reward, done, info = env.step(action)\n",
    "        score += reward\n",
    "        agent.store_transition(observation, action, reward, observation_, done)\n",
    "        agent.learn()\n",
    "        observation = observation_\n",
    "        env.render()\n",
    "    \n",
    "    scores.append(score)\n",
    "    eps_history.append(agent.epsilon)\n",
    "    \n",
    "    avg_score = np.mean(scores[-100:])\n",
    "    \n",
    "    print('episode', i, 'score %.2f' % score, 'average score %.2f' % avg_score)"
   ]
  },
  {
   "cell_type": "code",
   "execution_count": null,
   "id": "73dfece8",
   "metadata": {},
   "outputs": [],
   "source": [
    "import matplotlib.pyplot as plt\n",
    "figure, ax1 = plt.subplots(1,1, figsize=(12,7.5))\n",
    "ax1.plot(np.arange(episodes), avg_score, label='rolling avg reward', color='blue')\n",
    "ax1.set_xlabel('episodes')\n",
    "ax1.set_ylabel('score', color='blue')\n",
    "ax1.tick_params(axis='y', labelcolor='blue')\n",
    "\n",
    "ax2 = ax1.twinx()\n",
    "ax2.plot(np.arange(episodes), eps_history, label='epsilon', color='red')\n",
    "ax2.set_ylabel('epsilon', color='red')\n",
    "ax2.tick_params(axis='y', labelcolor='red')\n",
    "plt.show()"
   ]
  },
  {
   "cell_type": "markdown",
   "id": "4f766683",
   "metadata": {},
   "source": [
    "# 5 | What Did We Miss Out?\n",
    "\n",
    "- Dynamic programming (when transition probabilities are known)\n",
    "- Monte Carlo\n",
    "- Exploration strategies\n",
    "- Continuous actions\n",
    "- Policy gradient, actor-critic\n",
    "- Model-based\n",
    "- Partial observability"
   ]
  },
  {
   "cell_type": "markdown",
   "id": "70c86e8f",
   "metadata": {},
   "source": [
    "What next? RL interest group?"
   ]
  }
 ],
 "metadata": {
  "kernelspec": {
   "display_name": "Python 3 (ipykernel)",
   "language": "python",
   "name": "python3"
  },
  "language_info": {
   "codemirror_mode": {
    "name": "ipython",
    "version": 3
   },
   "file_extension": ".py",
   "mimetype": "text/x-python",
   "name": "python",
   "nbconvert_exporter": "python",
   "pygments_lexer": "ipython3",
   "version": "3.9.7"
  }
 },
 "nbformat": 4,
 "nbformat_minor": 5
}
