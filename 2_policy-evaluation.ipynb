{
 "cells": [
  {
   "cell_type": "markdown",
   "metadata": {},
   "source": [
    "# 2 | Policy Evaluation: The Temporal Difference Method"
   ]
  },
  {
   "cell_type": "markdown",
   "metadata": {},
   "source": [
    "In RL, the agent selects actions from its policy $\\pi$, which is a mapping from states to actions $\\mathcal{S} \\rightarrow \\mathcal{A}$. In the previous example the policy was formalised as a series of action probabilities given a state. An important aspect of RL, is quantifying how good a policy is as achieving the goal we'd like to achieve. We do this using *Value Functions*, the most common being the state-action value function $Q(s_t, a_t)$.\n",
    "\n",
    "$Q$ estimates the expected future return from a state $s_t$ if action $a_t$ is chosen, and the policy $\\pi$ is followed at all subsequent states. By sampling episodes in our MDP using the current policy we can collect rewards and update our Q-function accordingly. The algorithm we use to evaluate policies is called policy evaluation, and it uses the Bellman back-up which has two hyperparameters $\\gamma$ and $\\alpha$. $\\gamma$ is the discount factor that"
   ]
  },
  {
   "cell_type": "markdown",
   "metadata": {},
   "source": [
    "Import same MDP and policy as last time"
   ]
  },
  {
   "cell_type": "code",
   "execution_count": 152,
   "metadata": {},
   "outputs": [],
   "source": [
    "from mdp import StudentMDP\n",
    "from agent import Agent\n",
    "mdp = StudentMDP(verbose=True)\n",
    "agent = Agent(mdp.action_space) \n",
    "agent.policy = {\n",
    "    \"Class 1\":  {\"Study\": 0.5, \"Go on Facebook\": 0.5},\n",
    "    \"Class 2\":  {\"Study\": 0.8, \"Fall asleep\": 0.2},\n",
    "    \"Class 3\":  {\"Study\": 0.6, \"Go to the pub\": 0.4},\n",
    "    \"Facebook\": {\"Keep scrolling\": 0.9, \"Close Facebook\": 0.1},\n",
    "    \"Pub\":      {\"Have a pint\": 1.},\n",
    "    \"Pass\":     {\"Fall asleep\": 1.},\n",
    "    \"Asleep\":   {\"Stay asleep\": 1.}\n",
    "}"
   ]
  },
  {
   "cell_type": "markdown",
   "metadata": {},
   "source": [
    "Introduce the notion of a $Q$ value, $\\gamma$ and $\\alpha$"
   ]
  },
  {
   "cell_type": "code",
   "execution_count": 153,
   "metadata": {},
   "outputs": [
    {
     "data": {
      "text/plain": [
       "{'Class 1': {'Study': 0.0, 'Go on Facebook': 0.0},\n",
       " 'Class 2': {'Study': 0.0, 'Fall asleep': 0.0},\n",
       " 'Class 3': {'Study': 0.0, 'Go to the pub': 0.0},\n",
       " 'Facebook': {'Keep scrolling': 0.0, 'Close Facebook': 0.0},\n",
       " 'Pub': {'Have a pint': 0.0},\n",
       " 'Pass': {'Fall asleep': 0.0},\n",
       " 'Asleep': {'Stay asleep': 0.0}}"
      ]
     },
     "execution_count": 153,
     "metadata": {},
     "output_type": "execute_result"
    }
   ],
   "source": [
    "agent.Q"
   ]
  },
  {
   "cell_type": "code",
   "execution_count": 154,
   "metadata": {},
   "outputs": [],
   "source": [
    "GAMMA = 0.9\n",
    "ALPHA = 0.01\n",
    "\n",
    "def bellman_backup(agent, state, action, reward, next_state, done):\n",
    "\n",
    "    Q_next = 0. if done else agent.Q[next_state][agent.act(next_state)]\n",
    "\n",
    "    agent.Q[state][action] += ALPHA * ( reward + GAMMA * Q_next - agent.Q[state][action])"
   ]
  },
  {
   "cell_type": "code",
   "execution_count": 148,
   "metadata": {},
   "outputs": [],
   "source": [
    "mdp.verbose = True"
   ]
  },
  {
   "cell_type": "code",
   "execution_count": 155,
   "metadata": {},
   "outputs": [
    {
     "name": "stdout",
     "output_type": "stream",
     "text": [
      "=========================== EPISODE   1 ===========================\n",
      "| Time  | State    | Action         | Reward | Next state | Done  |\n",
      "|-------|----------|----------------|--------|------------|-------|\n",
      "| 0     | Class 1  | Study          | -2.0   | Class 2    | False |\n",
      "0.0\n",
      "-0.02\n",
      "| 1     | Class 2  | Study          | -2.0   | Class 3    | False |\n",
      "0.0\n",
      "-0.02\n",
      "| 2     | Class 3  | Study          | 10.0   | Pass       | False |\n",
      "0.0\n",
      "0.1\n",
      "| 3     | Pass     | Fall asleep    |  0.0   | Asleep     | True  |\n",
      "0.0\n",
      "0.0\n"
     ]
    }
   ],
   "source": [
    "for _ in range(1):\n",
    "    state = mdp.reset()\n",
    "    done = False\n",
    "    while not done:\n",
    "        action = agent.act(state)\n",
    "        next_state, reward, done, _ = mdp.step(action)\n",
    "\n",
    "        print(agent.Q[state][action])\n",
    "        bellman_backup(agent, state, action, reward, next_state, done)\n",
    "        print(agent.Q[state][action])\n",
    "\n",
    "        state = next_state"
   ]
  }
 ],
 "metadata": {
  "interpreter": {
   "hash": "767d51c1340bd893661ea55ea3124f6de3c7a262a8b4abca0554b478b1e2ff90"
  },
  "kernelspec": {
   "display_name": "Python 3.6.9 64-bit",
   "language": "python",
   "name": "python3"
  },
  "language_info": {
   "codemirror_mode": {
    "name": "ipython",
    "version": 3
   },
   "file_extension": ".py",
   "mimetype": "text/x-python",
   "name": "python",
   "nbconvert_exporter": "python",
   "pygments_lexer": "ipython3",
   "version": "3.6.9"
  },
  "orig_nbformat": 4
 },
 "nbformat": 4,
 "nbformat_minor": 2
}
