{
 "cells": [
  {
   "cell_type": "markdown",
   "metadata": {},
   "source": [
    "# 4 | Going Deep\n",
    "\n",
    "- Deep Q-learning\n",
    "- Things we've missed out\n",
    "    - Monte Carlo, exploration strategies, continuous actions, policy gradient, model-based, ..."
   ]
  }
 ],
 "metadata": {
  "language_info": {
   "name": "python"
  },
  "orig_nbformat": 4
 },
 "nbformat": 4,
 "nbformat_minor": 2
}
