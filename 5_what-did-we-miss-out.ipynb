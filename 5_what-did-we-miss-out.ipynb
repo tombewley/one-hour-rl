{
 "cells": [
  {
   "cell_type": "markdown",
   "metadata": {},
   "source": [
    "# 5 | What Did We Miss Out?\n",
    "\n",
    "- Dynamic programming (when transition probabilities are known)\n",
    "- Monte Carlo\n",
    "- Exploration strategies\n",
    "- Continuous actions\n",
    "- Policy gradient, actor-critic\n",
    "- Model-based\n",
    "- Partial observability"
   ]
  },
  {
   "cell_type": "markdown",
   "metadata": {},
   "source": [
    "What next? RL interest group?"
   ]
  }
 ],
 "metadata": {
  "language_info": {
   "name": "python"
  },
  "orig_nbformat": 4
 },
 "nbformat": 4,
 "nbformat_minor": 2
}
