{
 "cells": [
  {
   "cell_type": "markdown",
   "metadata": {},
   "source": [
    "# 1 | Markov Decision Processes: A Model of Sequential Decision Making\n",
    "\n",
    "- High-level motivation: sequential decision-making\n",
    "- The MDP formalism \n",
    "    - Mathematical notation *and* Gym as an implementation convention\n",
    "    - Introduce the Student MDP using diagram and Gym class\n",
    "\n",
    "![The student MDP](images/student-mdp.png?raw=true \"The student MDP\")"
   ]
  }
 ],
 "metadata": {
  "language_info": {
   "name": "python"
  },
  "orig_nbformat": 4
 },
 "nbformat": 4,
 "nbformat_minor": 2
}
