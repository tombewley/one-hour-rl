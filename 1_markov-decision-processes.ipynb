{
 "cells": [
  {
   "cell_type": "markdown",
   "metadata": {},
   "source": [
    "# 1 | Markov Decision Processes: A Model of Sequential Decision Making\n",
    "\n",
    "- High-level motivation: sequential decision-making\n",
    "- The MDP formalism \n",
    "    - Mathematical notation *and* Gym as an implementation convention\n",
    "    - Introduce the Student MDP using diagram and Gym class\n",
    "\n",
    "![The student MDP](https://github.com/tombewley/one-hour-rl/blob/main/images/student-mdp.png?raw=true \"The student MDP\")"
   ]
  },
  {
   "cell_type": "code",
   "execution_count": 1,
   "metadata": {},
   "outputs": [],
   "source": [
    "from mdp import StudentMDP\n",
    "from agent import Agent\n",
    "mdp = StudentMDP(verbose=True)\n",
    "agent = Agent(mdp) "
   ]
  },
  {
   "cell_type": "code",
   "execution_count": 2,
   "metadata": {},
   "outputs": [
    {
     "name": "stdout",
     "output_type": "stream",
     "text": [
      "{'Class 1': 1.0, 'Class 2': 0.0, 'Class 3': 0.0, 'Facebook': 0.0, 'Pub': 0.0, 'Pass': 0.0, 'Asleep': 0.0}\n",
      "Class 1\n",
      "{'Go on Facebook', 'Study'}\n",
      "{'Class 2': 1.0}\n"
     ]
    }
   ],
   "source": [
    "print(mdp.initial_probs())\n",
    "state = mdp.sample_initial_state()\n",
    "print(state)\n",
    "print(mdp.action_space(state))\n",
    "print(mdp.transition_probs(state, \"Study\"))"
   ]
  },
  {
   "cell_type": "code",
   "execution_count": 4,
   "metadata": {},
   "outputs": [
    {
     "name": "stdout",
     "output_type": "stream",
     "text": [
      "Class 2\n"
     ]
    }
   ],
   "source": [
    "print(mdp.sample_next_state(state, \"Study\"))"
   ]
  },
  {
   "cell_type": "code",
   "execution_count": 5,
   "metadata": {},
   "outputs": [
    {
     "name": "stdout",
     "output_type": "stream",
     "text": [
      "{'Have a pint'}\n",
      "{'Class 1': 0.2, 'Class 2': 0.4, 'Class 3': 0.4}\n"
     ]
    }
   ],
   "source": [
    "state = \"Pub\"\n",
    "print(mdp.action_space(state))\n",
    "print(mdp.transition_probs(state, \"Have a pint\"))"
   ]
  },
  {
   "cell_type": "code",
   "execution_count": 7,
   "metadata": {},
   "outputs": [
    {
     "name": "stdout",
     "output_type": "stream",
     "text": [
      "Class 1\n"
     ]
    }
   ],
   "source": [
    "print(mdp.sample_next_state(state, \"Have a pint\"))"
   ]
  },
  {
   "cell_type": "markdown",
   "metadata": {},
   "source": [
    "Default policy shown in images/student-mdp.png"
   ]
  },
  {
   "cell_type": "code",
   "execution_count": 8,
   "metadata": {},
   "outputs": [],
   "source": [
    "agent.pi = {\n",
    "    \"Class 1\":  {\"Study\": 0.5, \"Go on Facebook\": 0.5},\n",
    "    \"Class 2\":  {\"Study\": 0.8, \"Fall asleep\": 0.2},\n",
    "    \"Class 3\":  {\"Study\": 0.6, \"Go to the pub\": 0.4},\n",
    "    \"Facebook\": {\"Keep scrolling\": 0.9, \"Close Facebook\": 0.1},\n",
    "    \"Pub\":      {\"Have a pint\": 1.},\n",
    "    \"Pass\":     {\"Fall asleep\": 1.},\n",
    "    \"Asleep\":   {\"Stay asleep\": 1.}\n",
    "}"
   ]
  },
  {
   "cell_type": "code",
   "execution_count": 9,
   "metadata": {},
   "outputs": [
    {
     "name": "stdout",
     "output_type": "stream",
     "text": [
      "{'Study': 0.5, 'Go on Facebook': 0.5}\n",
      "['Go on Facebook', 'Study', 'Study', 'Study', 'Study', 'Go on Facebook', 'Go on Facebook', 'Go on Facebook', 'Study', 'Go on Facebook', 'Go on Facebook', 'Study', 'Study', 'Go on Facebook', 'Study', 'Go on Facebook', 'Go on Facebook', 'Go on Facebook', 'Study', 'Go on Facebook']\n"
     ]
    }
   ],
   "source": [
    "print(agent.pi[\"Class 1\"])\n",
    "print([agent.act(\"Class 1\") for _ in range(20)])"
   ]
  },
  {
   "cell_type": "code",
   "execution_count": 11,
   "metadata": {},
   "outputs": [
    {
     "name": "stdout",
     "output_type": "stream",
     "text": [
      "=========================== EPISODE   2 ===========================\n",
      "| Time  | State    | Action         | Reward | Next state | Done  |\n",
      "|-------|----------|----------------|--------|------------|-------|\n",
      "| 0     | Class 1  | Study          | -2.0   | Class 2    | False |\n",
      "| 1     | Class 2  | Study          | -2.0   | Class 3    | False |\n",
      "| 2     | Class 3  | Go to the pub  |  1.0   | Pub        | False |\n",
      "| 3     | Pub      | Have a pint    | -2.0   | Class 1    | False |\n",
      "| 4     | Class 1  | Study          | -2.0   | Class 2    | False |\n",
      "| 5     | Class 2  | Study          | -2.0   | Class 3    | False |\n",
      "| 6     | Class 3  | Go to the pub  |  1.0   | Pub        | False |\n",
      "| 7     | Pub      | Have a pint    | -2.0   | Class 2    | False |\n",
      "| 8     | Class 2  | Study          | -2.0   | Class 3    | False |\n",
      "| 9     | Class 3  | Go to the pub  |  1.0   | Pub        | False |\n",
      "| 10    | Pub      | Have a pint    | -2.0   | Class 2    | False |\n",
      "| 11    | Class 2  | Study          | -2.0   | Class 3    | False |\n",
      "| 12    | Class 3  | Go to the pub  |  1.0   | Pub        | False |\n",
      "| 13    | Pub      | Have a pint    | -2.0   | Class 2    | False |\n",
      "| 14    | Class 2  | Study          | -2.0   | Class 3    | False |\n",
      "| 15    | Class 3  | Go to the pub  |  1.0   | Pub        | False |\n",
      "| 16    | Pub      | Have a pint    | -2.0   | Class 3    | False |\n",
      "| 17    | Class 3  | Study          | 10.0   | Pass       | False |\n",
      "| 18    | Pass     | Fall asleep    |  0.0   | Asleep     | True  |\n"
     ]
    }
   ],
   "source": [
    "state = mdp.reset()\n",
    "done = False\n",
    "while not done:\n",
    "    state, _, done, _ = mdp.step(agent.act(state))"
   ]
  },
  {
   "cell_type": "markdown",
   "metadata": {},
   "source": [
    "How \"good\" is this policy?"
   ]
  }
 ],
 "metadata": {
  "interpreter": {
   "hash": "767d51c1340bd893661ea55ea3124f6de3c7a262a8b4abca0554b478b1e2ff90"
  },
  "kernelspec": {
   "display_name": "Python 3.6.9 64-bit",
   "language": "python",
   "name": "python3"
  },
  "language_info": {
   "codemirror_mode": {
    "name": "ipython",
    "version": 3
   },
   "file_extension": ".py",
   "mimetype": "text/x-python",
   "name": "python",
   "nbconvert_exporter": "python",
   "pygments_lexer": "ipython3",
   "version": "3.6.9"
  },
  "orig_nbformat": 4
 },
 "nbformat": 4,
 "nbformat_minor": 2
}
